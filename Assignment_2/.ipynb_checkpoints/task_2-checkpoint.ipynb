{
 "cells": [
  {
   "cell_type": "code",
   "execution_count": null,
   "metadata": {},
   "outputs": [],
   "source": [
    "import itertools\n",
    "import findspark\n",
    "findspark.init()\n",
    "from pyspark import SparkContext, SparkConf, StorageLevel\n",
    "import sys"
   ]
  },
  {
   "cell_type": "code",
   "execution_count": null,
   "metadata": {},
   "outputs": [],
   "source": [
    "conf = SparkConf()\n",
    "# conf.set(\"spark.driver.memory\", \"4g\")\n",
    "# conf.set(\"spark.executor.memory\", \"4g\")\n",
    "conf.setMaster('local[8]')\n",
    "conf.setAppName('Assignment_2')\n",
    "sc = SparkContext.getOrCreate(conf)"
   ]
  },
  {
   "cell_type": "code",
   "execution_count": null,
   "metadata": {},
   "outputs": [],
   "source": []
  },
  {
   "cell_type": "code",
   "execution_count": null,
   "metadata": {},
   "outputs": [],
   "source": [
    "def get_partition_itemset_candidates(bucket, set_size, previous_candidates, total_baskets_count, support):\n",
    "#     partition_support = int(support * (len(list(bucket)) / total_baskets_count))\n",
    "    partition_support = 11\n",
    "    print(partition_support)\n",
    "    cand_items = {}\n",
    "    cand_list = []\n",
    "    \n",
    "    if set_size > 2:\n",
    "        if previous_candidates:\n",
    "            for i in range(len(previous_candidates)):\n",
    "                for j in range(i+1, len(previous_candidates)):\n",
    "                    superset = previous_candidates[i].union(previous_candidates[j])\n",
    "                    if len(superset) == set_size and superset not in cand_items:\n",
    "                        cand_items[superset] = 0\n",
    "        \n",
    "    for basket in bucket:\n",
    "#         print(basket)\n",
    "        if set_size > 2:\n",
    "            for cand in cand_items:\n",
    "                if cand.issubset(basket):\n",
    "                    cand_items[cand] += 1\n",
    "            \n",
    "        else:\n",
    "            if set_size == 1:\n",
    "                sets = basket\n",
    "                \n",
    "            else:\n",
    "                sets = itertools.combinations(basket, set_size)\n",
    "            \n",
    "            for item in sets:\n",
    "#                 print(item)\n",
    "                if item not in cand_items:\n",
    "                    cand_items[item] = 0\n",
    "\n",
    "                cand_items[item] += 1\n",
    "#     print(cand_items)\n",
    "    for cand, cand_sup in cand_items.items():\n",
    "        if cand_sup >= partition_support:\n",
    "            yield cand\n",
    "            "
   ]
  },
  {
   "cell_type": "code",
   "execution_count": null,
   "metadata": {},
   "outputs": [],
   "source": [
    "def get_original_itemset_counts(basket, support, candidates_list):\n",
    "#     print(basket)\n",
    "#     print(candidates_list[:2])\n",
    "    if set_size == 1:\n",
    "        candidates_list = [set(list(x)) for x in candidates_list]\n",
    "    else:\n",
    "        candidates_list = [set(x) for x in candidates_list]\n",
    "    for cand in candidates_list:\n",
    "#         print(cand)\n",
    "        if cand.issubset(basket):\n",
    "            yield(cand, 1)"
   ]
  },
  {
   "cell_type": "code",
   "execution_count": null,
   "metadata": {},
   "outputs": [],
   "source": []
  },
  {
   "cell_type": "code",
   "execution_count": null,
   "metadata": {},
   "outputs": [],
   "source": []
  },
  {
   "cell_type": "code",
   "execution_count": null,
   "metadata": {},
   "outputs": [],
   "source": []
  },
  {
   "cell_type": "code",
   "execution_count": null,
   "metadata": {},
   "outputs": [],
   "source": [
    "def get_original_frequent_sets(original_baskets, support, candidate_list):\n",
    "    original_freq_sets = original_baskets \\\n",
    "        .flatMap(lambda x : get_original_itemset_counts(x, support, candidate_list)) \\\n",
    "        .reduceByKey(lambda a, b: a + b) \\\n",
    "        .filter(lambda x: x[1] >= support)\\\n",
    "        .map(lambda x: (x[0]))\\\n",
    "        .collect()\n",
    "\n",
    "    return original_freq_sets\n"
   ]
  },
  {
   "cell_type": "code",
   "execution_count": null,
   "metadata": {},
   "outputs": [],
   "source": [
    "def get_candidates_list(candidate_baskets, set_size, previous_candidates, total_baskets_count, support):\n",
    "    candidate_sets = candidate_baskets.mapPartitions(lambda bucket: get_partition_itemset_candidates(bucket, set_size, previous_candidates, total_baskets_count, support))\n",
    "    candidate_sets_list = candidate_sets.collect()\n",
    "    return candidate_sets_list\n"
   ]
  },
  {
   "cell_type": "code",
   "execution_count": null,
   "metadata": {},
   "outputs": [],
   "source": []
  },
  {
   "cell_type": "code",
   "execution_count": null,
   "metadata": {},
   "outputs": [],
   "source": [
    "import time\n",
    "\n",
    "start_time = time.time()\n",
    "threshold = 70\n",
    "case = '1'\n",
    "support = 50"
   ]
  },
  {
   "cell_type": "code",
   "execution_count": null,
   "metadata": {},
   "outputs": [],
   "source": [
    "data_path = 'asnlib/publicdata/'\n",
    "data_path = ''\n",
    "\n",
    "data = sc.textFile(data_path + 'data_file.csv').map(lambda x: x.split(',')).map(lambda x: (x[0], x[1]))\n",
    "header = data.first()\n",
    "raw_data = data.filter(lambda x: x != header)\n",
    "\n",
    "\n",
    "if case == '2':\n",
    "    raw_data = raw_data.map(lambda x: (x[1], x[0]))\n",
    "\n",
    "baskets = raw_data.groupByKey().map(lambda x: (x[0], set(x[1]))).filter(lambda x: len(x[1]) >= threshold).map(lambda x: x[1])\n",
    "# print(baskets.collect())\n",
    "# baskets.persist(StorageLevel.DISK_ONLY)\n",
    "count_baskets = baskets.count()"
   ]
  },
  {
   "cell_type": "code",
   "execution_count": null,
   "metadata": {},
   "outputs": [],
   "source": [
    "count_baskets"
   ]
  },
  {
   "cell_type": "code",
   "execution_count": null,
   "metadata": {},
   "outputs": [],
   "source": [
    "candidates = []\n",
    "frequent_itemsets = []\n",
    "set_size = 1\n",
    "while True:\n",
    "    current_candidates = get_candidates_list(\n",
    "        candidate_baskets=baskets,\n",
    "        set_size=set_size,\n",
    "        previous_candidates=candidates[-1] if candidates else [],\n",
    "        total_baskets_count=count_baskets,\n",
    "        support=support\n",
    "    )\n",
    "    \n",
    "    print('size_of_set : {}'.format(set_size))\n",
    "    print('size_of_candidates : {}'.format(len(current_candidates)))\n",
    "    \n",
    "    candidates.append(current_candidates)\n",
    "    \n",
    "    current_frequent_itemsets = get_original_frequent_sets(\n",
    "        original_baskets=baskets,\n",
    "        support=support,\n",
    "        candidate_list=current_candidates\n",
    "    )\n",
    "    if not current_frequent_itemsets:\n",
    "        break\n",
    "\n",
    "    frequent_itemsets.append(current_frequent_itemsets)\n",
    "        \n",
    "    print('size_of_set : {}'.format(set_size))\n",
    "    print('size_of_candidates : {}'.format(len(current_candidates)))\n",
    "    print('size_of_frequent_itemsets : {}'.format(len(current_frequent_itemsets)))\n",
    "    \n",
    "    set_size += 1"
   ]
  },
  {
   "cell_type": "code",
   "execution_count": null,
   "metadata": {},
   "outputs": [],
   "source": []
  },
  {
   "cell_type": "code",
   "execution_count": null,
   "metadata": {},
   "outputs": [],
   "source": []
  },
  {
   "cell_type": "code",
   "execution_count": null,
   "metadata": {},
   "outputs": [],
   "source": []
  },
  {
   "cell_type": "code",
   "execution_count": null,
   "metadata": {},
   "outputs": [],
   "source": []
  },
  {
   "cell_type": "code",
   "execution_count": null,
   "metadata": {},
   "outputs": [],
   "source": []
  },
  {
   "cell_type": "code",
   "execution_count": null,
   "metadata": {},
   "outputs": [],
   "source": []
  },
  {
   "cell_type": "code",
   "execution_count": null,
   "metadata": {},
   "outputs": [],
   "source": [
    "len(baskets.take(2)[1])"
   ]
  },
  {
   "cell_type": "code",
   "execution_count": null,
   "metadata": {},
   "outputs": [],
   "source": [
    "baskets.getNumPartitions()"
   ]
  },
  {
   "cell_type": "code",
   "execution_count": null,
   "metadata": {},
   "outputs": [],
   "source": [
    "num_baskets = baskets.count()"
   ]
  },
  {
   "cell_type": "code",
   "execution_count": null,
   "metadata": {},
   "outputs": [],
   "source": [
    "baskets.glom().map(len).collect()"
   ]
  },
  {
   "cell_type": "code",
   "execution_count": null,
   "metadata": {},
   "outputs": [],
   "source": [
    "raw_data.glom().map(len).collect()"
   ]
  },
  {
   "cell_type": "code",
   "execution_count": null,
   "metadata": {},
   "outputs": [],
   "source": []
  },
  {
   "cell_type": "code",
   "execution_count": null,
   "metadata": {},
   "outputs": [],
   "source": []
  },
  {
   "cell_type": "code",
   "execution_count": null,
   "metadata": {},
   "outputs": [],
   "source": []
  },
  {
   "cell_type": "code",
   "execution_count": null,
   "metadata": {},
   "outputs": [],
   "source": []
  },
  {
   "cell_type": "code",
   "execution_count": null,
   "metadata": {},
   "outputs": [],
   "source": []
  },
  {
   "cell_type": "code",
   "execution_count": null,
   "metadata": {},
   "outputs": [],
   "source": []
  },
  {
   "cell_type": "code",
   "execution_count": null,
   "metadata": {},
   "outputs": [],
   "source": []
  },
  {
   "cell_type": "code",
   "execution_count": null,
   "metadata": {},
   "outputs": [],
   "source": []
  },
  {
   "cell_type": "code",
   "execution_count": null,
   "metadata": {},
   "outputs": [],
   "source": []
  },
  {
   "cell_type": "code",
   "execution_count": null,
   "metadata": {},
   "outputs": [],
   "source": []
  },
  {
   "cell_type": "code",
   "execution_count": null,
   "metadata": {},
   "outputs": [],
   "source": []
  },
  {
   "cell_type": "code",
   "execution_count": null,
   "metadata": {},
   "outputs": [],
   "source": []
  },
  {
   "cell_type": "code",
   "execution_count": null,
   "metadata": {},
   "outputs": [],
   "source": []
  },
  {
   "cell_type": "code",
   "execution_count": null,
   "metadata": {},
   "outputs": [],
   "source": []
  },
  {
   "cell_type": "code",
   "execution_count": null,
   "metadata": {},
   "outputs": [],
   "source": []
  },
  {
   "cell_type": "code",
   "execution_count": null,
   "metadata": {},
   "outputs": [],
   "source": []
  },
  {
   "cell_type": "code",
   "execution_count": null,
   "metadata": {},
   "outputs": [],
   "source": []
  },
  {
   "cell_type": "code",
   "execution_count": null,
   "metadata": {},
   "outputs": [],
   "source": []
  },
  {
   "cell_type": "code",
   "execution_count": null,
   "metadata": {},
   "outputs": [],
   "source": []
  },
  {
   "cell_type": "code",
   "execution_count": null,
   "metadata": {},
   "outputs": [],
   "source": []
  }
 ],
 "metadata": {
  "kernelspec": {
   "display_name": "Python 3",
   "language": "python",
   "name": "python3"
  },
  "language_info": {
   "codemirror_mode": {
    "name": "ipython",
    "version": 3
   },
   "file_extension": ".py",
   "mimetype": "text/x-python",
   "name": "python",
   "nbconvert_exporter": "python",
   "pygments_lexer": "ipython3",
   "version": "3.7.6"
  }
 },
 "nbformat": 4,
 "nbformat_minor": 4
}
