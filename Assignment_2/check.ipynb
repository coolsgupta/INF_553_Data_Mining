{
 "cells": [
  {
   "cell_type": "code",
   "execution_count": 1,
   "metadata": {
    "pycharm": {
     "name": "#%%\n"
    }
   },
   "outputs": [],
   "source": [
    "import itertools\n",
    "import findspark\n",
    "findspark.init()\n",
    "from pyspark import SparkContext, SparkConf\n",
    "import sys\n"
   ]
  },
  {
   "cell_type": "code",
   "execution_count": 2,
   "metadata": {
    "pycharm": {
     "name": "#%%\n"
    }
   },
   "outputs": [],
   "source": [
    "conf = SparkConf()\n",
    "# conf.set(\"spark.driver.memory\", \"4g\")\n",
    "# conf.set(\"spark.executor.memory\", \"4g\")\n",
    "conf.setMaster('local[8]')\n",
    "conf.setAppName('Assignment_2')\n",
    "sc = SparkContext.getOrCreate(conf)"
   ]
  },
  {
   "cell_type": "code",
   "execution_count": 3,
   "metadata": {
    "pycharm": {
     "name": "#%%\n"
    }
   },
   "outputs": [],
   "source": [
    "def get_original_itemset_counts(basket, candidate_list):\n",
    "    if set_size > 1:\n",
    "        sets = itertools.combinations(basket, set_size)\n",
    "\n",
    "    else:\n",
    "        sets = basket\n",
    "    \n",
    "    cand_freq_sets = []\n",
    "    for item_set in sets:\n",
    "        if item_set in candidate_list:\n",
    "            cand_freq_sets.append(item_set)\n",
    "        \n",
    "    return list(map(lambda x: (x, 1), cand_freq_sets))\n",
    "\n",
    "\n"
   ]
  },
  {
   "cell_type": "code",
   "execution_count": 4,
   "metadata": {
    "pycharm": {
     "name": "#%%\n"
    }
   },
   "outputs": [],
   "source": [
    "def get_partition_itemset_candidates(bucket):\n",
    "    items = {}\n",
    "    for basket in bucket:\n",
    "        if len(basket) < set_size:\n",
    "            continue\n",
    "\n",
    "        if set_size > 1:\n",
    "            sets = itertools.combinations(basket, set_size)\n",
    "\n",
    "        else:\n",
    "            sets = basket\n",
    "\n",
    "        for item in sets:\n",
    "            if item not in items:\n",
    "                items[item] = 0\n",
    "\n",
    "            items[item] += 1\n",
    "\n",
    "#     print(items)\n",
    "    for item in items:\n",
    "        if items[item] >= partial_support:\n",
    "            yield item\n"
   ]
  },
  {
   "cell_type": "code",
   "execution_count": 5,
   "metadata": {
    "pycharm": {
     "name": "#%%\n"
    }
   },
   "outputs": [],
   "source": [
    "def get_candidates_list(candidate_baskets):\n",
    "    candidate_sets = candidate_baskets.mapPartitions(get_partition_itemset_candidates)\n",
    "    candidate_sets_list = candidate_sets.distinct().collect()\n",
    "    return candidate_sets_list\n"
   ]
  },
  {
   "cell_type": "code",
   "execution_count": 6,
   "metadata": {
    "pycharm": {
     "name": "#%%\n"
    }
   },
   "outputs": [],
   "source": [
    "def get_original_frequent_sets(original_baskets, candidate_list):\n",
    "    original_freq_sets = original_baskets \\\n",
    "        .flatMap(lambda x : get_original_itemset_counts(x, candidate_list)) \\\n",
    "        .reduceByKey(lambda a, b: a + b) \\\n",
    "        .filter(lambda x: x[1] >= support)\\\n",
    "        .map(lambda x: (x[0]))\\\n",
    "        .collect()\n",
    "\n",
    "    return original_freq_sets\n"
   ]
  },
  {
   "cell_type": "code",
   "execution_count": 12,
   "metadata": {
    "pycharm": {
     "name": "#%%\n"
    }
   },
   "outputs": [],
   "source": [
    "def write_results(result_candidates, result_frequent_itemsets):\n",
    "    with open('jupyter_test_results_t2.txt', 'w') as results_file:\n",
    "        results_file.write('Candidates:\\n')\n",
    "        output = ''\n",
    "        for single_cad in sorted(result_candidates[0]):\n",
    "            output += '(\\'' + str(single_cad) + '\\'),'\n",
    "\n",
    "        results_file.write(output[:-1] + '\\n\\n')\n",
    "\n",
    "        for cand_set in result_candidates[1:]:\n",
    "            results_file.write(','.join(map(str,(sorted(cand_set)))) + '\\n\\n')\n",
    "\n",
    "        results_file.write('Frequent Itemsets:\\n')\n",
    "        output = ''\n",
    "        for single_item in sorted(result_frequent_itemsets[0]):\n",
    "            output += '(\\'' + str(single_item) + '\\'),'\n",
    "\n",
    "        results_file.write(output[:-1] + '\\n\\n')\n",
    "\n",
    "        for freq_set in result_frequent_itemsets[1:]:\n",
    "            results_file.write(','.join(map(str,(sorted(freq_set)))) + '\\n\\n')\n",
    "\n"
   ]
  },
  {
   "cell_type": "code",
   "execution_count": 8,
   "metadata": {
    "pycharm": {
     "name": "#%%\n"
    }
   },
   "outputs": [],
   "source": [
    "import time\n",
    "\n",
    "start_time = time.time()\n",
    "threshold = 70\n",
    "case = '1'\n",
    "support = 50"
   ]
  },
  {
   "cell_type": "code",
   "execution_count": 9,
   "metadata": {
    "pycharm": {
     "name": "#%%\n"
    }
   },
   "outputs": [],
   "source": [
    "data_path = 'asnlib/publicdata/'\n",
    "data_path = ''\n",
    "\n",
    "data = sc.textFile(data_path + 'data_file.csv').map(lambda x: x.split(',')).map(lambda x: (x[0], x[1]))\n",
    "header = data.first()\n",
    "raw_data = data.filter(lambda x: x != header)\n",
    "\n",
    "\n",
    "if case == '2':\n",
    "    raw_data = raw_data.map(lambda x: (x[1], x[0]))\n",
    "\n",
    "baskets = raw_data.distinct().groupByKey().map(lambda x: tuple(sorted(list(x[1])))).filter(lambda x: len(x) >= threshold)\n",
    "# print(baskets.collect())\n"
   ]
  },
  {
   "cell_type": "code",
   "execution_count": 10,
   "metadata": {
    "pycharm": {
     "name": "#%%\n"
    }
   },
   "outputs": [],
   "source": [
    "partial_support = support // baskets.getNumPartitions()"
   ]
  },
  {
   "cell_type": "code",
   "execution_count": 11,
   "metadata": {
    "pycharm": {
     "name": "#%%\n"
    }
   },
   "outputs": [
    {
     "name": "stdout",
     "output_type": "stream",
     "text": [
      "size_of_set : 1\n",
      "size_of_candidates : 24\n",
      "size_of_frequent_itemsets : 24\n",
      "size_of_set : 2\n",
      "size_of_candidates : 246\n",
      "size_of_frequent_itemsets : 215\n",
      "size_of_set : 3\n",
      "size_of_candidates : 1332\n",
      "size_of_frequent_itemsets : 940\n",
      "size_of_set : 4\n",
      "size_of_candidates : 3837\n",
      "size_of_frequent_itemsets : 1666\n",
      "size_of_set : 5\n",
      "size_of_candidates : 5963\n",
      "size_of_frequent_itemsets : 1165\n",
      "size_of_set : 6\n",
      "size_of_candidates : 5626\n",
      "size_of_frequent_itemsets : 413\n",
      "size_of_set : 7\n",
      "size_of_candidates : 3607\n",
      "size_of_frequent_itemsets : 90\n",
      "size_of_set : 8\n",
      "size_of_candidates : 1650\n",
      "size_of_frequent_itemsets : 13\n",
      "size_of_set : 9\n",
      "size_of_candidates : 538\n",
      "size_of_frequent_itemsets : 1\n"
     ]
    }
   ],
   "source": [
    "candidates = []\n",
    "frequent_itemsets = []\n",
    "set_size = 1\n",
    "while True:\n",
    "    current_candidates = get_candidates_list(candidate_baskets=baskets)\n",
    "    candidates.append(current_candidates)\n",
    "    current_candidates_dict = dict.fromkeys(current_candidates, 1)\n",
    "    current_frequent_itemsets = get_original_frequent_sets(\n",
    "        original_baskets=baskets,\n",
    "        candidate_list=current_candidates_dict\n",
    "    )\n",
    "    if not current_frequent_itemsets:\n",
    "        break\n",
    "\n",
    "    frequent_itemsets.append(current_frequent_itemsets)\n",
    "        \n",
    "    print('size_of_set : {}'.format(set_size))\n",
    "    print('size_of_candidates : {}'.format(len(current_candidates)))\n",
    "    print('size_of_frequent_itemsets : {}'.format(len(current_frequent_itemsets)))\n",
    "    \n",
    "    set_size += 1"
   ]
  },
  {
   "cell_type": "code",
   "execution_count": null,
   "metadata": {
    "pycharm": {
     "name": "#%%\n"
    }
   },
   "outputs": [],
   "source": [
    "\n",
    "write_results(result_candidates=candidates, result_frequent_itemsets=frequent_itemsets)"
   ]
  },
  {
   "cell_type": "code",
   "execution_count": null,
   "metadata": {
    "pycharm": {
     "name": "#%%\n"
    }
   },
   "outputs": [],
   "source": [
    "end_time = time.time()"
   ]
  },
  {
   "cell_type": "code",
   "execution_count": null,
   "metadata": {
    "pycharm": {
     "name": "#%%\n"
    }
   },
   "outputs": [],
   "source": [
    "end_time - start_time"
   ]
  },
  {
   "cell_type": "code",
   "execution_count": null,
   "metadata": {
    "pycharm": {
     "name": "#%%\n"
    }
   },
   "outputs": [],
   "source": [
    "baskets.take(10)"
   ]
  },
  {
   "cell_type": "code",
   "execution_count": null,
   "metadata": {
    "pycharm": {
     "name": "#%%\n"
    }
   },
   "outputs": [],
   "source": [
    "baskets.count()"
   ]
  },
  {
   "cell_type": "code",
   "execution_count": null,
   "metadata": {
    "pycharm": {
     "name": "#%%\n"
    }
   },
   "outputs": [],
   "source": [
    "partial_support"
   ]
  },
  {
   "cell_type": "code",
   "execution_count": null,
   "metadata": {
    "pycharm": {
     "name": "#%%\n"
    }
   },
   "outputs": [],
   "source": [
    "baskets.count()"
   ]
  },
  {
   "cell_type": "code",
   "execution_count": null,
   "metadata": {
    "pycharm": {
     "name": "#%%\n"
    }
   },
   "outputs": [],
   "source": [
    "set_size = 1\n",
    "current_candidates = get_candidates_list(candidate_baskets=baskets)"
   ]
  },
  {
   "cell_type": "code",
   "execution_count": null,
   "metadata": {
    "pycharm": {
     "name": "#%%\n"
    }
   },
   "outputs": [],
   "source": [
    "current_candidates"
   ]
  },
  {
   "cell_type": "code",
   "execution_count": null,
   "metadata": {
    "pycharm": {
     "name": "#%%\n"
    }
   },
   "outputs": [],
   "source": [
    "current_candidates_dict = dict.fromkeys(current_candidates, 1)"
   ]
  },
  {
   "cell_type": "code",
   "execution_count": null,
   "metadata": {
    "pycharm": {
     "name": "#%%\n"
    }
   },
   "outputs": [],
   "source": [
    "current_frequent_itemsets = get_original_frequent_sets(\n",
    "    original_baskets=baskets,\n",
    "    candidate_list=current_candidates_dict\n",
    ")"
   ]
  },
  {
   "cell_type": "code",
   "execution_count": null,
   "metadata": {
    "pycharm": {
     "name": "#%%\n"
    }
   },
   "outputs": [],
   "source": [
    "baskets.flatMap(get_original_itemset_counts).filter(lambda x: x[0] in current_candidates_dict).reduceByKey(lambda a, b: a + b).filter(lambda x: x[1] >= support).map(lambda x: (x[0])).collect()"
   ]
  },
  {
   "cell_type": "code",
   "execution_count": null,
   "metadata": {
    "pycharm": {
     "name": "#%%\n"
    }
   },
   "outputs": [],
   "source": []
  },
  {
   "cell_type": "code",
   "execution_count": null,
   "metadata": {
    "pycharm": {
     "name": "#%%\n"
    }
   },
   "outputs": [],
   "source": []
  },
  {
   "cell_type": "code",
   "execution_count": null,
   "metadata": {
    "pycharm": {
     "name": "#%%\n"
    }
   },
   "outputs": [],
   "source": []
  },
  {
   "cell_type": "code",
   "execution_count": null,
   "metadata": {
    "pycharm": {
     "name": "#%%\n"
    }
   },
   "outputs": [],
   "source": []
  },
  {
   "cell_type": "code",
   "execution_count": null,
   "metadata": {
    "pycharm": {
     "name": "#%%\n"
    }
   },
   "outputs": [],
   "source": []
  },
  {
   "cell_type": "code",
   "execution_count": null,
   "metadata": {
    "pycharm": {
     "name": "#%%\n"
    }
   },
   "outputs": [],
   "source": []
  },
  {
   "cell_type": "code",
   "execution_count": null,
   "metadata": {
    "pycharm": {
     "name": "#%%\n"
    }
   },
   "outputs": [],
   "source": []
  },
  {
   "cell_type": "code",
   "execution_count": null,
   "metadata": {
    "pycharm": {
     "name": "#%%\n"
    }
   },
   "outputs": [],
   "source": []
  },
  {
   "cell_type": "code",
   "execution_count": null,
   "metadata": {
    "pycharm": {
     "name": "#%%\n"
    }
   },
   "outputs": [],
   "source": []
  },
  {
   "cell_type": "code",
   "execution_count": null,
   "metadata": {
    "pycharm": {
     "name": "#%%\n"
    }
   },
   "outputs": [],
   "source": []
  },
  {
   "cell_type": "code",
   "execution_count": null,
   "metadata": {
    "pycharm": {
     "name": "#%%\n"
    }
   },
   "outputs": [],
   "source": []
  },
  {
   "cell_type": "code",
   "execution_count": null,
   "metadata": {
    "pycharm": {
     "name": "#%%\n"
    }
   },
   "outputs": [],
   "source": []
  },
  {
   "cell_type": "code",
   "execution_count": null,
   "metadata": {
    "pycharm": {
     "name": "#%%\n"
    }
   },
   "outputs": [],
   "source": []
  },
  {
   "cell_type": "code",
   "execution_count": null,
   "metadata": {
    "pycharm": {
     "name": "#%%\n"
    }
   },
   "outputs": [],
   "source": []
  },
  {
   "cell_type": "markdown",
   "metadata": {},
   "source": [
    "# preprocess data for task 2"
   ]
  },
  {
   "cell_type": "code",
   "execution_count": null,
   "metadata": {
    "pycharm": {
     "name": "#%%\n"
    }
   },
   "outputs": [],
   "source": [
    "import json\n",
    "path_dir = 'asnlib/publicdata/'\n",
    "reviews_json = sc.textFile(path_dir + 'review.json').map(json.loads)\n",
    "business_json = sc.textFile(path_dir + 'business.json').map(json.loads)\n",
    "reviews_json.first()\n",
    "business_json.first()"
   ]
  },
  {
   "cell_type": "code",
   "execution_count": null,
   "metadata": {
    "pycharm": {
     "name": "#%%\n"
    }
   },
   "outputs": [],
   "source": [
    "required_business_ids = dict.fromkeys(business_json.filter(lambda x: x.get('state','') == 'NV').map(lambda x: x.get('business_id', '')).collect())\n"
   ]
  },
  {
   "cell_type": "code",
   "execution_count": null,
   "metadata": {
    "pycharm": {
     "name": "#%%\n"
    }
   },
   "outputs": [],
   "source": [
    "len(required_business_ids)"
   ]
  },
  {
   "cell_type": "code",
   "execution_count": null,
   "metadata": {
    "pycharm": {
     "name": "#%%\n"
    }
   },
   "outputs": [],
   "source": [
    "user_business_map = reviews_json.map(lambda x: (x.get('user_id', ''), x.get('business_id', ''))).filter(lambda x: x[1] in required_business_ids)\n"
   ]
  },
  {
   "cell_type": "code",
   "execution_count": null,
   "metadata": {},
   "outputs": [],
   "source": [
    "required_business_ids"
   ]
  },
  {
   "cell_type": "code",
   "execution_count": null,
   "metadata": {
    "pycharm": {
     "name": "#%%\n"
    }
   },
   "outputs": [],
   "source": [
    "user_business_map.collect()"
   ]
  },
  {
   "cell_type": "code",
   "execution_count": null,
   "metadata": {
    "pycharm": {
     "name": "#%%\n"
    }
   },
   "outputs": [],
   "source": [
    "csv_records_rdd = user_business_map"
   ]
  },
  {
   "cell_type": "code",
   "execution_count": null,
   "metadata": {
    "pycharm": {
     "name": "#%%\n"
    }
   },
   "outputs": [],
   "source": [
    "csv_records = [('user_id','business_id')]\n",
    "csv_records.extend(csv_records_rdd.collect())"
   ]
  },
  {
   "cell_type": "code",
   "execution_count": null,
   "metadata": {
    "pycharm": {
     "name": "#%%\n"
    }
   },
   "outputs": [],
   "source": [
    "len(csv_records)"
   ]
  },
  {
   "cell_type": "code",
   "execution_count": null,
   "metadata": {
    "pycharm": {
     "name": "#%%\n"
    }
   },
   "outputs": [],
   "source": [
    "sys.getsizeof(csv_records)"
   ]
  },
  {
   "cell_type": "code",
   "execution_count": null,
   "metadata": {
    "pycharm": {
     "name": "#%%\n"
    }
   },
   "outputs": [],
   "source": [
    "csv_records[:5]"
   ]
  },
  {
   "cell_type": "code",
   "execution_count": null,
   "metadata": {
    "pycharm": {
     "name": "#%%\n"
    }
   },
   "outputs": [],
   "source": [
    "import csv\n",
    "with open('data_file.csv', 'w', newline='') as data_file:\n",
    "    writer = csv.writer(data_file)\n",
    "    writer.writerows(csv_records)\n",
    "    data_file.close()"
   ]
  },
  {
   "cell_type": "code",
   "execution_count": null,
   "metadata": {
    "pycharm": {
     "name": "#%%\n"
    }
   },
   "outputs": [],
   "source": []
  },
  {
   "cell_type": "code",
   "execution_count": null,
   "metadata": {
    "pycharm": {
     "name": "#%%\n"
    }
   },
   "outputs": [],
   "source": []
  },
  {
   "cell_type": "code",
   "execution_count": null,
   "metadata": {
    "pycharm": {
     "name": "#%%\n"
    }
   },
   "outputs": [],
   "source": []
  },
  {
   "cell_type": "code",
   "execution_count": null,
   "metadata": {
    "pycharm": {
     "name": "#%%\n"
    }
   },
   "outputs": [],
   "source": []
  }
 ],
 "metadata": {
  "kernelspec": {
   "display_name": "Python 3",
   "language": "python",
   "name": "python3"
  },
  "language_info": {
   "codemirror_mode": {
    "name": "ipython",
    "version": 3
   },
   "file_extension": ".py",
   "mimetype": "text/x-python",
   "name": "python",
   "nbconvert_exporter": "python",
   "pygments_lexer": "ipython3",
   "version": "3.7.6"
  },
  "pycharm": {
   "stem_cell": {
    "cell_type": "raw",
    "metadata": {
     "collapsed": false
    },
    "source": []
   }
  }
 },
 "nbformat": 4,
 "nbformat_minor": 4
}
