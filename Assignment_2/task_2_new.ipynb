{
 "cells": [
  {
   "cell_type": "code",
   "execution_count": 1,
   "metadata": {},
   "outputs": [],
   "source": [
    "import itertools\n",
    "import findspark\n",
    "findspark.init()\n",
    "from pyspark import SparkContext, SparkConf, StorageLevel\n",
    "import sys"
   ]
  },
  {
   "cell_type": "code",
   "execution_count": 2,
   "metadata": {},
   "outputs": [],
   "source": [
    "conf = SparkConf()\n",
    "# conf.set(\"spark.driver.memory\", \"4g\")\n",
    "# conf.set(\"spark.executor.memory\", \"4g\")\n",
    "conf.setMaster('local[8]')\n",
    "conf.setAppName('Assignment_2')\n",
    "sc = SparkContext.getOrCreate(conf)"
   ]
  },
  {
   "cell_type": "code",
   "execution_count": 3,
   "metadata": {},
   "outputs": [],
   "source": [
    "def get_all_candidates(bucket):\n",
    "    all_candidates = []\n",
    "    singleton_count_map = {}\n",
    "    candidate_singletons = []\n",
    "    pair_count_map = {}\n",
    "    candidate_pairs = []\n",
    "\n",
    "    for basket in bucket:\n",
    "        basket.sort()\n",
    "        for item in basket:\n",
    "            if item not in singleton_count_map:\n",
    "                singleton_count_map[item] = 0\n",
    "            singleton_count_map[item] += 1\n",
    "\n",
    "        for pair in itertools.combinations(basket, 2):\n",
    "            if frozenset(pair) not in pair_count_map:\n",
    "                pair_count_map[frozenset(pair)] = 0\n",
    "            pair_count_map[frozenset(pair)] += 1\n",
    "\n",
    "    for item in singleton_count_map:\n",
    "        if singleton_count_map[item] >= partition_support:\n",
    "            candidate_singletons.append((item))\n",
    "\n",
    "    all_candidates.append([1, candidate_singletons])\n",
    "\n",
    "    for pair in itertools.combinations(candidate_singletons, 2):\n",
    "        pair = frozenset(pair)\n",
    "        if pair in pair_count_map and pair_count_map[pair] >= partition_support:\n",
    "            candidate_pairs.append(pair)\n",
    "\n",
    "    all_candidates.append([2, candidate_pairs])\n",
    "\n",
    "    set_size = 3\n",
    "    previous_candidates = candidate_pairs\n",
    "\n",
    "    while 1:\n",
    "        current_candidates = []\n",
    "        for i, subcand_1 in enumerate(previous_candidates):\n",
    "            for subcand_2 in previous_candidates[i + 1:]:\n",
    "                superset_cand = subcand_1.union(subcand_2)\n",
    "\n",
    "                if len(superset_cand) == set_size and superset_cand not in current_candidates:\n",
    "                    current_candidates.append(superset_cand)\n",
    "\n",
    "        supported_candidates = []\n",
    "        for cand_item_set in current_candidates:\n",
    "            part_sup_cand = 0\n",
    "            for basket in bucket:\n",
    "                if cand_item_set.issubset(set(basket)):\n",
    "                    part_sup_cand += 1\n",
    "\n",
    "                    if part_sup_cand >= partition_support:\n",
    "                        supported_candidates.append(cand_item_set)\n",
    "\n",
    "        for cand_item_set in supported_candidates:\n",
    "            for subset in itertools.combinations(cand_item_set, set_size - 1):\n",
    "                subset = set(subset)\n",
    "                if subset not in all_candidates[set_size - 2][1]:\n",
    "                    supported_candidates.remove(cand_item_set)\n",
    "\n",
    "        all_candidates.append((set_size, supported_candidates))\n",
    "\n",
    "        previous_candidates = supported_candidates\n",
    "        set_size += 1\n",
    "\n",
    "        if not previous_candidates:\n",
    "            break\n",
    "\n",
    "    resulting_candidates = []\n",
    "    for cand_set in all_candidates:\n",
    "        if cand_set[0] == 1:\n",
    "            candidates = [tuple((x,)) for x in cand_set[1]]\n",
    "        else:\n",
    "            candidates = [tuple(sorted(x)) for x in cand_set[1]]\n",
    "        yield ((cand_set[0], candidates))\n"
   ]
  },
  {
   "cell_type": "code",
   "execution_count": 33,
   "metadata": {},
   "outputs": [],
   "source": [
    "def get_original_frequent_sets(bucket, all_candidates):\n",
    "    for candidate_set in all_candidates:\n",
    "        for candidate in candidate_set:\n",
    "            for basket in bucket:\n",
    "                if set(candidate).issubset(basket):\n",
    "                    yield(candidate, 1)\n",
    "    "
   ]
  },
  {
   "cell_type": "code",
   "execution_count": 5,
   "metadata": {},
   "outputs": [],
   "source": [
    "import time\n",
    "\n",
    "start_time = time.time()\n",
    "threshold = 1\n",
    "case = '1'\n",
    "support = 4"
   ]
  },
  {
   "cell_type": "code",
   "execution_count": 17,
   "metadata": {},
   "outputs": [],
   "source": [
    "data_path = 'asnlib/publicdata/'\n",
    "# data_path = ''\n",
    "\n",
    "data = sc.textFile(data_path + 'small1.csv').map(lambda x: x.split(',')).map(lambda x: (x[0], x[1]))\n",
    "header = data.first()\n",
    "raw_data = data.filter(lambda x: x != header)\n",
    "\n",
    "\n",
    "if case == '2':\n",
    "    raw_data = raw_data.map(lambda x: (x[1], x[0]))\n",
    "\n",
    "baskets = raw_data.groupByKey().map(lambda x: (list(set(x[1])))).filter(lambda x: len(x) >= threshold)\n",
    "# print(baskets.collect())\n",
    "# baskets.persist(StorageLevel.DISK_ONLY)\n",
    "count_baskets = baskets.count()"
   ]
  },
  {
   "cell_type": "code",
   "execution_count": null,
   "metadata": {},
   "outputs": [],
   "source": [
    "count_baskets"
   ]
  },
  {
   "cell_type": "code",
   "execution_count": null,
   "metadata": {},
   "outputs": [],
   "source": [
    "parl_baskets = sc.parallelize(user_baskets.collect(),2)"
   ]
  },
  {
   "cell_type": "code",
   "execution_count": 15,
   "metadata": {},
   "outputs": [
    {
     "ename": "NameError",
     "evalue": "name 'parl_baskets' is not defined",
     "output_type": "error",
     "traceback": [
      "\u001b[1;31m---------------------------------------------------------------------------\u001b[0m",
      "\u001b[1;31mNameError\u001b[0m                                 Traceback (most recent call last)",
      "\u001b[1;32m<ipython-input-15-328fbc690b85>\u001b[0m in \u001b[0;36m<module>\u001b[1;34m\u001b[0m\n\u001b[1;32m----> 1\u001b[1;33m \u001b[0mbaskets\u001b[0m \u001b[1;33m=\u001b[0m \u001b[0mparl_baskets\u001b[0m\u001b[1;33m.\u001b[0m\u001b[0mvalues\u001b[0m\u001b[1;33m(\u001b[0m\u001b[1;33m)\u001b[0m\u001b[1;33m\u001b[0m\u001b[1;33m\u001b[0m\u001b[0m\n\u001b[0m",
      "\u001b[1;31mNameError\u001b[0m: name 'parl_baskets' is not defined"
     ]
    }
   ],
   "source": [
    "baskets = parl_baskets.values()"
   ]
  },
  {
   "cell_type": "code",
   "execution_count": 18,
   "metadata": {},
   "outputs": [
    {
     "data": {
      "text/plain": [
       "[['102', '100', '101', '98'], ['102', '97', '101', '99', '103']]"
      ]
     },
     "execution_count": 18,
     "metadata": {},
     "output_type": "execute_result"
    }
   ],
   "source": [
    "baskets.take(2)"
   ]
  },
  {
   "cell_type": "code",
   "execution_count": null,
   "metadata": {},
   "outputs": [],
   "source": []
  },
  {
   "cell_type": "code",
   "execution_count": 19,
   "metadata": {},
   "outputs": [],
   "source": [
    "partition_support = support/2"
   ]
  },
  {
   "cell_type": "code",
   "execution_count": 20,
   "metadata": {},
   "outputs": [],
   "source": [
    "candidate_item_sets = baskets.mapPartitions(lambda x: get_all_candidates(list(x)))"
   ]
  },
  {
   "cell_type": "code",
   "execution_count": 21,
   "metadata": {},
   "outputs": [],
   "source": [
    "candidate_item_sets_2 = candidate_item_sets.reduceByKey(lambda a,b: a+b)"
   ]
  },
  {
   "cell_type": "code",
   "execution_count": 22,
   "metadata": {},
   "outputs": [
    {
     "data": {
      "text/plain": [
       "6"
      ]
     },
     "execution_count": 22,
     "metadata": {},
     "output_type": "execute_result"
    }
   ],
   "source": [
    "candidate_item_sets_2.count()"
   ]
  },
  {
   "cell_type": "code",
   "execution_count": null,
   "metadata": {},
   "outputs": [],
   "source": [
    "candidate_item_sets_2.collect()"
   ]
  },
  {
   "cell_type": "code",
   "execution_count": 23,
   "metadata": {},
   "outputs": [],
   "source": [
    "candidate_item_sets_3 = candidate_item_sets_2.map(lambda x: list(set(x[1])))"
   ]
  },
  {
   "cell_type": "code",
   "execution_count": null,
   "metadata": {},
   "outputs": [],
   "source": [
    "candidate_item_sets_3.collect()"
   ]
  },
  {
   "cell_type": "code",
   "execution_count": 24,
   "metadata": {},
   "outputs": [],
   "source": [
    "candidate_item_sets_4 = candidate_item_sets_3.filter(lambda x: len(x)>0)"
   ]
  },
  {
   "cell_type": "code",
   "execution_count": null,
   "metadata": {},
   "outputs": [],
   "source": [
    "candidate_item_sets_4.collect()"
   ]
  },
  {
   "cell_type": "code",
   "execution_count": null,
   "metadata": {},
   "outputs": [],
   "source": []
  },
  {
   "cell_type": "code",
   "execution_count": 25,
   "metadata": {},
   "outputs": [],
   "source": [
    "candidate_item_sets_5 = candidate_item_sets_4.sortBy(lambda x: len(x[0]))"
   ]
  },
  {
   "cell_type": "code",
   "execution_count": null,
   "metadata": {},
   "outputs": [],
   "source": [
    "candidate_item_sets_5.collect()"
   ]
  },
  {
   "cell_type": "code",
   "execution_count": 34,
   "metadata": {},
   "outputs": [],
   "source": [
    "cands = candidate_item_sets_5.collect()\n",
    "original_freq_itemsets = baskets.mapPartitions(lambda x: get_original_frequent_sets(list(x), cands))"
   ]
  },
  {
   "cell_type": "code",
   "execution_count": 35,
   "metadata": {},
   "outputs": [
    {
     "data": {
      "text/plain": [
       "[(('100',), 1),\n",
       " (('100',), 1),\n",
       " (('100',), 1),\n",
       " (('102',), 1),\n",
       " (('102',), 1),\n",
       " (('102',), 1),\n",
       " (('102',), 1),\n",
       " (('102',), 1),\n",
       " (('103',), 1),\n",
       " (('103',), 1),\n",
       " (('105',), 1),\n",
       " (('98',), 1),\n",
       " (('98',), 1),\n",
       " (('98',), 1),\n",
       " (('98',), 1),\n",
       " (('98',), 1),\n",
       " (('98',), 1),\n",
       " (('98',), 1),\n",
       " (('97',), 1),\n",
       " (('97',), 1),\n",
       " (('97',), 1),\n",
       " (('97',), 1),\n",
       " (('97',), 1),\n",
       " (('97',), 1),\n",
       " (('97',), 1),\n",
       " (('101',), 1),\n",
       " (('101',), 1),\n",
       " (('101',), 1),\n",
       " (('101',), 1),\n",
       " (('99',), 1),\n",
       " (('99',), 1),\n",
       " (('99',), 1),\n",
       " (('99',), 1),\n",
       " (('99',), 1),\n",
       " (('103', '98'), 1),\n",
       " (('102', '98'), 1),\n",
       " (('102', '98'), 1),\n",
       " (('102', '98'), 1),\n",
       " (('102', '98'), 1),\n",
       " (('98', '99'), 1),\n",
       " (('98', '99'), 1),\n",
       " (('98', '99'), 1),\n",
       " (('100', '101'), 1),\n",
       " (('100', '101'), 1),\n",
       " (('100', '101'), 1),\n",
       " (('100', '102'), 1),\n",
       " (('100', '102'), 1),\n",
       " (('102', '103'), 1),\n",
       " (('102', '103'), 1),\n",
       " (('101', '97'), 1),\n",
       " (('102', '99'), 1),\n",
       " (('102', '99'), 1),\n",
       " (('105', '98'), 1),\n",
       " (('102', '97'), 1),\n",
       " (('102', '97'), 1),\n",
       " (('102', '97'), 1),\n",
       " (('101', '102'), 1),\n",
       " (('101', '102'), 1),\n",
       " (('101', '102'), 1),\n",
       " (('103', '99'), 1),\n",
       " (('103', '99'), 1),\n",
       " (('97', '99'), 1),\n",
       " (('97', '99'), 1),\n",
       " (('97', '99'), 1),\n",
       " (('97', '99'), 1),\n",
       " (('97', '98'), 1),\n",
       " (('97', '98'), 1),\n",
       " (('97', '98'), 1),\n",
       " (('97', '98'), 1),\n",
       " (('103', '97'), 1),\n",
       " (('103', '97'), 1),\n",
       " (('100', '98'), 1),\n",
       " (('100', '98'), 1),\n",
       " (('100', '98'), 1),\n",
       " (('101', '99'), 1),\n",
       " (('101', '99'), 1),\n",
       " (('101', '98'), 1),\n",
       " (('101', '98'), 1),\n",
       " (('101', '98'), 1),\n",
       " (('102', '105'), 1),\n",
       " (('100', '99'), 1),\n",
       " (('102', '105', '98'), 1),\n",
       " (('101', '97', '99'), 1),\n",
       " (('97', '98', '99'), 1),\n",
       " (('97', '98', '99'), 1),\n",
       " (('102', '103', '99'), 1),\n",
       " (('102', '103', '99'), 1),\n",
       " (('102', '97', '99'), 1),\n",
       " (('102', '97', '99'), 1),\n",
       " (('103', '97', '99'), 1),\n",
       " (('103', '97', '99'), 1),\n",
       " (('102', '103', '97'), 1),\n",
       " (('102', '103', '97'), 1),\n",
       " (('100', '101', '99'), 1),\n",
       " (('100', '102', '98'), 1),\n",
       " (('100', '102', '98'), 1),\n",
       " (('103', '98', '99'), 1),\n",
       " (('102', '103', '98'), 1),\n",
       " (('102', '97', '98'), 1),\n",
       " (('102', '97', '98'), 1),\n",
       " (('100', '101', '98'), 1),\n",
       " (('100', '101', '98'), 1),\n",
       " (('100', '101', '98'), 1),\n",
       " (('100', '101', '102'), 1),\n",
       " (('100', '101', '102'), 1),\n",
       " (('101', '102', '98'), 1),\n",
       " (('101', '102', '98'), 1),\n",
       " (('102', '98', '99'), 1),\n",
       " (('100', '101', '102', '98'), 1),\n",
       " (('100', '101', '102', '98'), 1),\n",
       " (('102', '103', '98', '99'), 1),\n",
       " (('102', '103', '97', '99'), 1),\n",
       " (('102', '103', '97', '99'), 1),\n",
       " (('100',), 1),\n",
       " (('100',), 1),\n",
       " (('102',), 1),\n",
       " (('102',), 1),\n",
       " (('102',), 1),\n",
       " (('103',), 1),\n",
       " (('103',), 1),\n",
       " (('105',), 1),\n",
       " (('105',), 1),\n",
       " (('98',), 1),\n",
       " (('98',), 1),\n",
       " (('98',), 1),\n",
       " (('98',), 1),\n",
       " (('98',), 1),\n",
       " (('97',), 1),\n",
       " (('97',), 1),\n",
       " (('97',), 1),\n",
       " (('97',), 1),\n",
       " (('97',), 1),\n",
       " (('97',), 1),\n",
       " (('97',), 1),\n",
       " (('101',), 1),\n",
       " (('101',), 1),\n",
       " (('101',), 1),\n",
       " (('101',), 1),\n",
       " (('101',), 1),\n",
       " (('99',), 1),\n",
       " (('99',), 1),\n",
       " (('99',), 1),\n",
       " (('99',), 1),\n",
       " (('99',), 1),\n",
       " (('99',), 1),\n",
       " (('99',), 1),\n",
       " (('103', '98'), 1),\n",
       " (('103', '98'), 1),\n",
       " (('105', '99'), 1),\n",
       " (('105', '99'), 1),\n",
       " (('102', '98'), 1),\n",
       " (('102', '98'), 1),\n",
       " (('98', '99'), 1),\n",
       " (('98', '99'), 1),\n",
       " (('98', '99'), 1),\n",
       " (('98', '99'), 1),\n",
       " (('100', '101'), 1),\n",
       " (('100', '101'), 1),\n",
       " (('103', '105'), 1),\n",
       " (('103', '105'), 1),\n",
       " (('100', '102'), 1),\n",
       " (('102', '103'), 1),\n",
       " (('102', '103'), 1),\n",
       " (('101', '97'), 1),\n",
       " (('101', '97'), 1),\n",
       " (('101', '97'), 1),\n",
       " (('102', '99'), 1),\n",
       " (('102', '99'), 1),\n",
       " (('105', '98'), 1),\n",
       " (('105', '98'), 1),\n",
       " (('102', '97'), 1),\n",
       " (('101', '102'), 1),\n",
       " (('101', '102'), 1),\n",
       " (('103', '99'), 1),\n",
       " (('103', '99'), 1),\n",
       " (('97', '99'), 1),\n",
       " (('97', '99'), 1),\n",
       " (('97', '99'), 1),\n",
       " (('97', '99'), 1),\n",
       " (('97', '99'), 1),\n",
       " (('97', '99'), 1),\n",
       " (('97', '98'), 1),\n",
       " (('97', '98'), 1),\n",
       " (('97', '98'), 1),\n",
       " (('97', '98'), 1),\n",
       " (('103', '97'), 1),\n",
       " (('100', '98'), 1),\n",
       " (('101', '99'), 1),\n",
       " (('101', '99'), 1),\n",
       " (('101', '99'), 1),\n",
       " (('101', '99'), 1),\n",
       " (('101', '98'), 1),\n",
       " (('102', '105'), 1),\n",
       " (('102', '105'), 1),\n",
       " (('100', '99'), 1),\n",
       " (('100', '99'), 1),\n",
       " (('105', '98', '99'), 1),\n",
       " (('105', '98', '99'), 1),\n",
       " (('102', '105', '98'), 1),\n",
       " (('102', '105', '98'), 1),\n",
       " (('101', '97', '99'), 1),\n",
       " (('101', '97', '99'), 1),\n",
       " (('101', '97', '99'), 1),\n",
       " (('97', '98', '99'), 1),\n",
       " (('97', '98', '99'), 1),\n",
       " (('97', '98', '99'), 1),\n",
       " (('102', '103', '99'), 1),\n",
       " (('102', '103', '99'), 1),\n",
       " (('102', '97', '99'), 1),\n",
       " (('103', '97', '99'), 1),\n",
       " (('102', '103', '97'), 1),\n",
       " (('100', '101', '99'), 1),\n",
       " (('100', '101', '99'), 1),\n",
       " (('100', '102', '98'), 1),\n",
       " (('103', '98', '99'), 1),\n",
       " (('103', '98', '99'), 1),\n",
       " (('102', '103', '105'), 1),\n",
       " (('102', '103', '105'), 1),\n",
       " (('102', '103', '98'), 1),\n",
       " (('102', '103', '98'), 1),\n",
       " (('103', '105', '98'), 1),\n",
       " (('103', '105', '98'), 1),\n",
       " (('103', '105', '99'), 1),\n",
       " (('103', '105', '99'), 1),\n",
       " (('102', '105', '99'), 1),\n",
       " (('102', '105', '99'), 1),\n",
       " (('102', '97', '98'), 1),\n",
       " (('100', '101', '98'), 1),\n",
       " (('100', '101', '102'), 1),\n",
       " (('101', '102', '98'), 1),\n",
       " (('102', '98', '99'), 1),\n",
       " (('102', '98', '99'), 1),\n",
       " (('102', '103', '105', '99'), 1),\n",
       " (('102', '103', '105', '99'), 1),\n",
       " (('100', '101', '102', '98'), 1),\n",
       " (('102', '105', '98', '99'), 1),\n",
       " (('102', '105', '98', '99'), 1),\n",
       " (('102', '103', '98', '99'), 1),\n",
       " (('102', '103', '98', '99'), 1),\n",
       " (('102', '103', '97', '99'), 1),\n",
       " (('103', '105', '98', '99'), 1),\n",
       " (('103', '105', '98', '99'), 1),\n",
       " (('102', '103', '105', '98'), 1),\n",
       " (('102', '103', '105', '98'), 1),\n",
       " (('102', '103', '105', '98', '99'), 1),\n",
       " (('102', '103', '105', '98', '99'), 1)]"
      ]
     },
     "execution_count": 35,
     "metadata": {},
     "output_type": "execute_result"
    }
   ],
   "source": [
    "original_freq_itemsets.collect()"
   ]
  },
  {
   "cell_type": "code",
   "execution_count": 36,
   "metadata": {},
   "outputs": [],
   "source": [
    "a_1 = original_freq_itemsets.reduceByKey(lambda a,b: a+b)"
   ]
  },
  {
   "cell_type": "code",
   "execution_count": 37,
   "metadata": {},
   "outputs": [],
   "source": [
    "a_2 = a_1.filter(lambda x: x[1]>=support)"
   ]
  },
  {
   "cell_type": "code",
   "execution_count": 38,
   "metadata": {},
   "outputs": [],
   "source": [
    "a_3 = a_2.map(lambda x: (len(x[0]), [x[0]]))"
   ]
  },
  {
   "cell_type": "code",
   "execution_count": 54,
   "metadata": {},
   "outputs": [],
   "source": [
    "a_4 = a_3.groupByKey().map(lambda x: (x[0], list(x[1])))"
   ]
  },
  {
   "cell_type": "code",
   "execution_count": 55,
   "metadata": {},
   "outputs": [],
   "source": [
    "a_5 = a_4.sortBy(lambda x: x[0])"
   ]
  },
  {
   "cell_type": "code",
   "execution_count": 56,
   "metadata": {},
   "outputs": [
    {
     "data": {
      "text/plain": [
       "[(1,\n",
       "  [[('103',)],\n",
       "   [('97',)],\n",
       "   [('101',)],\n",
       "   [('99',)],\n",
       "   [('100',)],\n",
       "   [('102',)],\n",
       "   [('98',)]]),\n",
       " (2,\n",
       "  [[('102', '98')],\n",
       "   [('101', '97')],\n",
       "   [('103', '99')],\n",
       "   [('97', '99')],\n",
       "   [('100', '98')],\n",
       "   [('101', '99')],\n",
       "   [('98', '99')],\n",
       "   [('100', '101')],\n",
       "   [('102', '103')],\n",
       "   [('102', '99')],\n",
       "   [('102', '97')],\n",
       "   [('101', '102')],\n",
       "   [('97', '98')],\n",
       "   [('101', '98')]]),\n",
       " (3,\n",
       "  [[('101', '97', '99')],\n",
       "   [('100', '101', '98')],\n",
       "   [('97', '98', '99')],\n",
       "   [('102', '103', '99')]])]"
      ]
     },
     "execution_count": 56,
     "metadata": {},
     "output_type": "execute_result"
    }
   ],
   "source": [
    "a_5.collect()"
   ]
  },
  {
   "cell_type": "code",
   "execution_count": null,
   "metadata": {},
   "outputs": [],
   "source": []
  },
  {
   "cell_type": "code",
   "execution_count": null,
   "metadata": {},
   "outputs": [],
   "source": []
  },
  {
   "cell_type": "code",
   "execution_count": null,
   "metadata": {},
   "outputs": [],
   "source": []
  },
  {
   "cell_type": "code",
   "execution_count": null,
   "metadata": {},
   "outputs": [],
   "source": []
  },
  {
   "cell_type": "code",
   "execution_count": null,
   "metadata": {},
   "outputs": [],
   "source": []
  },
  {
   "cell_type": "code",
   "execution_count": null,
   "metadata": {},
   "outputs": [],
   "source": []
  },
  {
   "cell_type": "code",
   "execution_count": null,
   "metadata": {},
   "outputs": [],
   "source": []
  },
  {
   "cell_type": "code",
   "execution_count": null,
   "metadata": {},
   "outputs": [],
   "source": []
  }
 ],
 "metadata": {
  "kernelspec": {
   "display_name": "Python 3",
   "language": "python",
   "name": "python3"
  },
  "language_info": {
   "codemirror_mode": {
    "name": "ipython",
    "version": 3
   },
   "file_extension": ".py",
   "mimetype": "text/x-python",
   "name": "python",
   "nbconvert_exporter": "python",
   "pygments_lexer": "ipython3",
   "version": "3.7.6"
  }
 },
 "nbformat": 4,
 "nbformat_minor": 4
}
