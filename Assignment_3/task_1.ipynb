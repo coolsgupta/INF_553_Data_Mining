{
 "cells": [
  {
   "cell_type": "code",
   "execution_count": 1,
   "metadata": {},
   "outputs": [],
   "source": [
    "import findspark\n",
    "findspark.init()\n",
    "from pyspark import SparkContext, SparkConf\n"
   ]
  },
  {
   "cell_type": "code",
   "execution_count": 2,
   "metadata": {},
   "outputs": [],
   "source": [
    "conf = SparkConf()\n",
    "# conf.set(\"spark.driver.memory\", \"4g\")\n",
    "# conf.set(\"spark.executor.memory\", \"4g\")\n",
    "conf.setMaster('local[8]')\n",
    "conf.setAppName('Assignment_2')\n",
    "sc = SparkContext.getOrCreate(conf)"
   ]
  },
  {
   "cell_type": "code",
   "execution_count": 127,
   "metadata": {},
   "outputs": [],
   "source": [
    "import json\n",
    "import math\n",
    "import itertools\n",
    "import random\n",
    "import sys"
   ]
  },
  {
   "cell_type": "code",
   "execution_count": 4,
   "metadata": {},
   "outputs": [],
   "source": [
    "reviews_json = sc.textFile('asnlib/publicdata/train_review.json').map(json.loads)"
   ]
  },
  {
   "cell_type": "code",
   "execution_count": 5,
   "metadata": {},
   "outputs": [],
   "source": [
    "user_business_pairs = reviews_json.map(lambda x: (x.get('user_id'), x.get('business_id'))).distinct()"
   ]
  },
  {
   "cell_type": "code",
   "execution_count": 6,
   "metadata": {},
   "outputs": [
    {
     "data": {
      "text/plain": [
       "[('OLR4DvqFxCKLOEHqfAxpqQ', 'zK7sltLeRRioqYwgLiWUIA'),\n",
       " ('0XMLbsJt-fvcQsOHt3_B_Q', 'eTXYID00jGxq1vZpntBUFw'),\n",
       " ('bQCHF5rn5lMI9c5kEwCaNA', 'na4Th5DrNauOv-c43QQFvA'),\n",
       " ('fiGqQ7pIGKyZ9G0RqWLMpg', 'IVieU4_z2Y9BsRANZYMNNg'),\n",
       " ('sDlRFzGHzfpFHaxvJ1JtTg', 'avkOIpslBUFZMQhELpl3JQ'),\n",
       " ('qRU7nYMJIV05lpKQq4jVjw', 'jobP3ywRd3QNZ_GCoPG2DQ'),\n",
       " ('d976WkRYJVqJyP3vH2Kayg', 'w6-qlTncaWlSxTJwK_HvfQ'),\n",
       " ('v5dxjxKLuINf5E6_kYckXg', 'MgSd4P3ATkiywbbraFygHg'),\n",
       " ('mLJ3zQwiEzAIBaXb-7iXBw', '3xykzfVY2PbdjKCRDLdzTQ'),\n",
       " ('PQ6-FZpUn2oFLyBGvdiG3w', 'bQ_wtZvMb__OhprY5bF9aQ')]"
      ]
     },
     "execution_count": 6,
     "metadata": {},
     "output_type": "execute_result"
    }
   ],
   "source": [
    "user_business_pairs.take(10)"
   ]
  },
  {
   "cell_type": "code",
   "execution_count": 7,
   "metadata": {},
   "outputs": [],
   "source": [
    "user_tokens_zip = user_business_pairs.map(lambda x: x[0]).distinct().sortBy(lambda x: x).zipWithIndex().map(lambda x: (x[0], x[1]+1))"
   ]
  },
  {
   "cell_type": "code",
   "execution_count": 8,
   "metadata": {},
   "outputs": [],
   "source": [
    "user_tokens = user_tokens_zip.collectAsMap()"
   ]
  },
  {
   "cell_type": "code",
   "execution_count": 11,
   "metadata": {},
   "outputs": [
    {
     "data": {
      "text/plain": [
       "26184"
      ]
     },
     "execution_count": 11,
     "metadata": {},
     "output_type": "execute_result"
    }
   ],
   "source": [
    "len(user_tokens)"
   ]
  },
  {
   "cell_type": "code",
   "execution_count": 13,
   "metadata": {},
   "outputs": [],
   "source": [
    "business_tokens_zip = user_business_pairs.map(lambda x: x[1]).distinct().sortBy(lambda x: x).zipWithIndex().map(lambda x: (x[0], x[1]+1))"
   ]
  },
  {
   "cell_type": "code",
   "execution_count": 14,
   "metadata": {},
   "outputs": [],
   "source": [
    "business_tokens = business_tokens_zip.collectAsMap()"
   ]
  },
  {
   "cell_type": "code",
   "execution_count": 15,
   "metadata": {},
   "outputs": [],
   "source": [
    "reversed_index_bus_dict = {v: k for k, v in business_tokens.items()}"
   ]
  },
  {
   "cell_type": "code",
   "execution_count": 19,
   "metadata": {},
   "outputs": [
    {
     "data": {
      "text/plain": [
       "10253"
      ]
     },
     "execution_count": 19,
     "metadata": {},
     "output_type": "execute_result"
    }
   ],
   "source": [
    "len(business_tokens)"
   ]
  },
  {
   "cell_type": "code",
   "execution_count": 151,
   "metadata": {},
   "outputs": [],
   "source": [
    "def build_min_hash_func(a,b,p,m):\n",
    "    def min_hash_func(x):\n",
    "        return (((a*x + b)%p)%m)\n",
    "#         return ((a*x + b)%m)\n",
    "    return min_hash_func\n",
    "\n",
    "def get_min_hash_functions(num_func, buckets):\n",
    "    min_hash_func_list = []\n",
    "    list_a = random.sample(range(1, sys.maxsize - 1), num_func)\n",
    "    list_b = random.sample(range(0, sys.maxsize - 1), num_func)\n",
    "    p = 233333333333\n",
    "    for a,b in zip(list_a, list_b):\n",
    "        min_hash_func_list.append(build_min_hash_func(a,b,p,buckets))\n",
    "#         min_hash_func_list.append(lambda x: ((a*x + b)%p)%buckets)\n",
    "#         print (a,b)\n",
    "    return min_hash_func_list"
   ]
  },
  {
   "cell_type": "code",
   "execution_count": 152,
   "metadata": {},
   "outputs": [],
   "source": [
    "min_hash_func_list = get_min_hash_functions(50, len(user_tokens)*2)"
   ]
  },
  {
   "cell_type": "code",
   "execution_count": 179,
   "metadata": {},
   "outputs": [],
   "source": [
    "user_hashed_values = user_tokens_zip.map(lambda x: (user_tokens.get(x[0]), [min_hash(x[1]) for min_hash in min_hash_func_list]))"
   ]
  },
  {
   "cell_type": "code",
   "execution_count": 180,
   "metadata": {},
   "outputs": [
    {
     "data": {
      "text/plain": [
       "(1,\n",
       " [37119,\n",
       "  43659,\n",
       "  26699,\n",
       "  5115,\n",
       "  30268,\n",
       "  41878,\n",
       "  50975,\n",
       "  19196,\n",
       "  25358,\n",
       "  46619,\n",
       "  9427,\n",
       "  50246,\n",
       "  4993,\n",
       "  19972,\n",
       "  33462,\n",
       "  35685,\n",
       "  3864,\n",
       "  48151,\n",
       "  22202,\n",
       "  9992,\n",
       "  22433,\n",
       "  19324,\n",
       "  15668,\n",
       "  15283,\n",
       "  38180,\n",
       "  43722,\n",
       "  4597,\n",
       "  16589,\n",
       "  11044,\n",
       "  2874,\n",
       "  32101,\n",
       "  47578,\n",
       "  8678,\n",
       "  42714,\n",
       "  24370,\n",
       "  22531,\n",
       "  26551,\n",
       "  51040,\n",
       "  50607,\n",
       "  14128,\n",
       "  43965,\n",
       "  36589,\n",
       "  33909,\n",
       "  23397,\n",
       "  3705,\n",
       "  17629,\n",
       "  19150,\n",
       "  36024,\n",
       "  44477,\n",
       "  6093])"
      ]
     },
     "execution_count": 180,
     "metadata": {},
     "output_type": "execute_result"
    }
   ],
   "source": [
    "user_hashed_values.first()"
   ]
  },
  {
   "cell_type": "code",
   "execution_count": 181,
   "metadata": {},
   "outputs": [],
   "source": [
    "user_business_tokenized_map = user_business_pairs.map(lambda x: (user_tokens.get(x[0]), business_tokens.get(x[1]))).groupByKey().map(lambda x: (x[0], list(set(x[1]))))"
   ]
  },
  {
   "cell_type": "code",
   "execution_count": 182,
   "metadata": {},
   "outputs": [
    {
     "data": {
      "text/plain": [
       "(20664,\n",
       " [897,\n",
       "  9223,\n",
       "  8840,\n",
       "  3337,\n",
       "  4617,\n",
       "  4363,\n",
       "  9100,\n",
       "  6667,\n",
       "  777,\n",
       "  6155,\n",
       "  1809,\n",
       "  275,\n",
       "  1303,\n",
       "  5275,\n",
       "  3356,\n",
       "  926,\n",
       "  289,\n",
       "  3365,\n",
       "  807,\n",
       "  1193,\n",
       "  5804,\n",
       "  3118,\n",
       "  8373,\n",
       "  1206,\n",
       "  3128,\n",
       "  3658,\n",
       "  8397,\n",
       "  7501,\n",
       "  9935,\n",
       "  8781,\n",
       "  5967,\n",
       "  2766,\n",
       "  3158,\n",
       "  7387,\n",
       "  8803,\n",
       "  8552,\n",
       "  9577,\n",
       "  234,\n",
       "  7531,\n",
       "  7275,\n",
       "  6125,\n",
       "  8174,\n",
       "  9840,\n",
       "  4721,\n",
       "  1904,\n",
       "  10225,\n",
       "  6003,\n",
       "  7032,\n",
       "  3580,\n",
       "  2045])"
      ]
     },
     "execution_count": 182,
     "metadata": {},
     "output_type": "execute_result"
    }
   ],
   "source": [
    "user_business_tokenized_map.first()"
   ]
  },
  {
   "cell_type": "code",
   "execution_count": 183,
   "metadata": {},
   "outputs": [],
   "source": [
    "business_user_tokenized_map = user_business_pairs.map(lambda x: (business_tokens.get(x[1]), user_tokens.get(x[0]))).groupByKey().map(lambda x: (x[0], list(set(x[1]))))"
   ]
  },
  {
   "cell_type": "code",
   "execution_count": 184,
   "metadata": {},
   "outputs": [],
   "source": [
    "business_user_tokenized_dict = business_user_tokenized_map.collectAsMap()"
   ]
  },
  {
   "cell_type": "code",
   "execution_count": 185,
   "metadata": {},
   "outputs": [
    {
     "data": {
      "text/plain": [
       "9"
      ]
     },
     "execution_count": 185,
     "metadata": {},
     "output_type": "execute_result"
    }
   ],
   "source": [
    "len(business_user_tokenized_dict[4396])"
   ]
  },
  {
   "cell_type": "code",
   "execution_count": 186,
   "metadata": {},
   "outputs": [],
   "source": [
    "signature_matrix_rdd = user_business_tokenized_map.leftOuterJoin(user_hashed_values)"
   ]
  },
  {
   "cell_type": "code",
   "execution_count": 187,
   "metadata": {},
   "outputs": [],
   "source": [
    "signature_matrix_rdd = signature_matrix_rdd.map(lambda x: x[1])"
   ]
  },
  {
   "cell_type": "code",
   "execution_count": 188,
   "metadata": {},
   "outputs": [],
   "source": [
    "signature_matrix_rdd = signature_matrix_rdd.flatMap(lambda business_set: [(x, business_set[1]) for x in business_set[0]]) \\"
   ]
  },
  {
   "cell_type": "code",
   "execution_count": 189,
   "metadata": {},
   "outputs": [],
   "source": [
    "signature_matrix_rdd = signature_matrix_rdd.reduceByKey(lambda a,b: [min(x, y) for x, y in zip(a, b)]).coalesce(2)"
   ]
  },
  {
   "cell_type": "code",
   "execution_count": 190,
   "metadata": {},
   "outputs": [
    {
     "data": {
      "text/plain": [
       "[(9100,\n",
       "  [552,\n",
       "   1199,\n",
       "   837,\n",
       "   858,\n",
       "   117,\n",
       "   366,\n",
       "   137,\n",
       "   2005,\n",
       "   53,\n",
       "   78,\n",
       "   3,\n",
       "   1,\n",
       "   125,\n",
       "   635,\n",
       "   1436,\n",
       "   59,\n",
       "   446,\n",
       "   11,\n",
       "   4,\n",
       "   484,\n",
       "   3058,\n",
       "   478,\n",
       "   917,\n",
       "   105,\n",
       "   145,\n",
       "   72,\n",
       "   238,\n",
       "   29,\n",
       "   176,\n",
       "   526,\n",
       "   197,\n",
       "   829,\n",
       "   484,\n",
       "   158,\n",
       "   820,\n",
       "   495,\n",
       "   857,\n",
       "   133,\n",
       "   266,\n",
       "   691,\n",
       "   707,\n",
       "   1575,\n",
       "   252,\n",
       "   186,\n",
       "   555,\n",
       "   367,\n",
       "   225,\n",
       "   807,\n",
       "   412,\n",
       "   726]),\n",
       " (1904,\n",
       "  [1866,\n",
       "   1529,\n",
       "   24,\n",
       "   201,\n",
       "   930,\n",
       "   433,\n",
       "   94,\n",
       "   205,\n",
       "   518,\n",
       "   955,\n",
       "   3023,\n",
       "   680,\n",
       "   129,\n",
       "   19,\n",
       "   809,\n",
       "   443,\n",
       "   295,\n",
       "   86,\n",
       "   301,\n",
       "   358,\n",
       "   85,\n",
       "   452,\n",
       "   203,\n",
       "   2025,\n",
       "   793,\n",
       "   710,\n",
       "   1108,\n",
       "   280,\n",
       "   43,\n",
       "   99,\n",
       "   344,\n",
       "   236,\n",
       "   136,\n",
       "   541,\n",
       "   8,\n",
       "   1943,\n",
       "   324,\n",
       "   63,\n",
       "   286,\n",
       "   461,\n",
       "   203,\n",
       "   1044,\n",
       "   1262,\n",
       "   492,\n",
       "   258,\n",
       "   1537,\n",
       "   331,\n",
       "   163,\n",
       "   958,\n",
       "   339]),\n",
       " (6244,\n",
       "  [33,\n",
       "   82,\n",
       "   232,\n",
       "   349,\n",
       "   60,\n",
       "   361,\n",
       "   312,\n",
       "   205,\n",
       "   127,\n",
       "   501,\n",
       "   260,\n",
       "   216,\n",
       "   82,\n",
       "   479,\n",
       "   11,\n",
       "   52,\n",
       "   164,\n",
       "   3,\n",
       "   78,\n",
       "   11,\n",
       "   28,\n",
       "   80,\n",
       "   135,\n",
       "   86,\n",
       "   76,\n",
       "   68,\n",
       "   166,\n",
       "   207,\n",
       "   205,\n",
       "   145,\n",
       "   160,\n",
       "   70,\n",
       "   136,\n",
       "   52,\n",
       "   130,\n",
       "   39,\n",
       "   144,\n",
       "   261,\n",
       "   193,\n",
       "   372,\n",
       "   176,\n",
       "   20,\n",
       "   478,\n",
       "   55,\n",
       "   14,\n",
       "   222,\n",
       "   6,\n",
       "   29,\n",
       "   27,\n",
       "   67]),\n",
       " (4368,\n",
       "  [881,\n",
       "   5584,\n",
       "   4084,\n",
       "   1896,\n",
       "   1470,\n",
       "   40,\n",
       "   2495,\n",
       "   3480,\n",
       "   4747,\n",
       "   1032,\n",
       "   813,\n",
       "   74,\n",
       "   7062,\n",
       "   635,\n",
       "   874,\n",
       "   953,\n",
       "   2953,\n",
       "   5934,\n",
       "   7790,\n",
       "   6745,\n",
       "   9659,\n",
       "   4462,\n",
       "   172,\n",
       "   17656,\n",
       "   5008,\n",
       "   4317,\n",
       "   6132,\n",
       "   6715,\n",
       "   1645,\n",
       "   822,\n",
       "   9811,\n",
       "   4152,\n",
       "   4051,\n",
       "   3611,\n",
       "   1841,\n",
       "   2969,\n",
       "   2161,\n",
       "   1866,\n",
       "   3140,\n",
       "   234,\n",
       "   973,\n",
       "   2897,\n",
       "   1290,\n",
       "   241,\n",
       "   987,\n",
       "   2275,\n",
       "   791,\n",
       "   3451,\n",
       "   636,\n",
       "   3935]),\n",
       " (336,\n",
       "  [184,\n",
       "   458,\n",
       "   293,\n",
       "   15,\n",
       "   134,\n",
       "   447,\n",
       "   304,\n",
       "   234,\n",
       "   127,\n",
       "   556,\n",
       "   474,\n",
       "   704,\n",
       "   68,\n",
       "   200,\n",
       "   368,\n",
       "   81,\n",
       "   33,\n",
       "   806,\n",
       "   126,\n",
       "   34,\n",
       "   238,\n",
       "   218,\n",
       "   416,\n",
       "   94,\n",
       "   102,\n",
       "   203,\n",
       "   37,\n",
       "   144,\n",
       "   47,\n",
       "   24,\n",
       "   55,\n",
       "   223,\n",
       "   30,\n",
       "   212,\n",
       "   106,\n",
       "   1270,\n",
       "   1174,\n",
       "   614,\n",
       "   474,\n",
       "   480,\n",
       "   392,\n",
       "   508,\n",
       "   334,\n",
       "   147,\n",
       "   309,\n",
       "   60,\n",
       "   321,\n",
       "   145,\n",
       "   76,\n",
       "   70]),\n",
       " (4508,\n",
       "  [835,\n",
       "   164,\n",
       "   324,\n",
       "   60,\n",
       "   1272,\n",
       "   251,\n",
       "   1204,\n",
       "   303,\n",
       "   658,\n",
       "   1666,\n",
       "   1368,\n",
       "   581,\n",
       "   1853,\n",
       "   3185,\n",
       "   1305,\n",
       "   1811,\n",
       "   264,\n",
       "   2855,\n",
       "   3199,\n",
       "   54,\n",
       "   534,\n",
       "   778,\n",
       "   1280,\n",
       "   1743,\n",
       "   1187,\n",
       "   318,\n",
       "   2618,\n",
       "   223,\n",
       "   5291,\n",
       "   848,\n",
       "   201,\n",
       "   115,\n",
       "   375,\n",
       "   691,\n",
       "   378,\n",
       "   4019,\n",
       "   4689,\n",
       "   3041,\n",
       "   1352,\n",
       "   1475,\n",
       "   136,\n",
       "   1039,\n",
       "   1110,\n",
       "   182,\n",
       "   2190,\n",
       "   211,\n",
       "   321,\n",
       "   1190,\n",
       "   833,\n",
       "   895]),\n",
       " (2492,\n",
       "  [3482,\n",
       "   2052,\n",
       "   8360,\n",
       "   7557,\n",
       "   2151,\n",
       "   1023,\n",
       "   2368,\n",
       "   1994,\n",
       "   493,\n",
       "   1157,\n",
       "   2752,\n",
       "   853,\n",
       "   2895,\n",
       "   230,\n",
       "   2242,\n",
       "   390,\n",
       "   6417,\n",
       "   2105,\n",
       "   135,\n",
       "   1046,\n",
       "   366,\n",
       "   6834,\n",
       "   2170,\n",
       "   1910,\n",
       "   3514,\n",
       "   742,\n",
       "   17497,\n",
       "   472,\n",
       "   282,\n",
       "   3256,\n",
       "   1751,\n",
       "   3750,\n",
       "   4670,\n",
       "   874,\n",
       "   4159,\n",
       "   99,\n",
       "   1383,\n",
       "   577,\n",
       "   2928,\n",
       "   725,\n",
       "   4209,\n",
       "   2764,\n",
       "   8754,\n",
       "   5318,\n",
       "   7170,\n",
       "   497,\n",
       "   8114,\n",
       "   747,\n",
       "   637,\n",
       "   1821]),\n",
       " (2548,\n",
       "  [1,\n",
       "   222,\n",
       "   45,\n",
       "   168,\n",
       "   90,\n",
       "   21,\n",
       "   9,\n",
       "   2,\n",
       "   102,\n",
       "   4,\n",
       "   198,\n",
       "   151,\n",
       "   52,\n",
       "   65,\n",
       "   244,\n",
       "   64,\n",
       "   35,\n",
       "   18,\n",
       "   80,\n",
       "   143,\n",
       "   119,\n",
       "   3,\n",
       "   22,\n",
       "   61,\n",
       "   232,\n",
       "   153,\n",
       "   561,\n",
       "   37,\n",
       "   92,\n",
       "   102,\n",
       "   120,\n",
       "   38,\n",
       "   58,\n",
       "   4,\n",
       "   81,\n",
       "   139,\n",
       "   43,\n",
       "   35,\n",
       "   20,\n",
       "   34,\n",
       "   5,\n",
       "   29,\n",
       "   464,\n",
       "   55,\n",
       "   18,\n",
       "   238,\n",
       "   6,\n",
       "   84,\n",
       "   289,\n",
       "   67]),\n",
       " (6776,\n",
       "  [145,\n",
       "   418,\n",
       "   294,\n",
       "   398,\n",
       "   106,\n",
       "   1465,\n",
       "   1220,\n",
       "   1620,\n",
       "   884,\n",
       "   338,\n",
       "   1284,\n",
       "   853,\n",
       "   435,\n",
       "   437,\n",
       "   174,\n",
       "   687,\n",
       "   1286,\n",
       "   438,\n",
       "   116,\n",
       "   908,\n",
       "   198,\n",
       "   56,\n",
       "   172,\n",
       "   887,\n",
       "   946,\n",
       "   178,\n",
       "   354,\n",
       "   249,\n",
       "   1047,\n",
       "   449,\n",
       "   84,\n",
       "   3278,\n",
       "   430,\n",
       "   40,\n",
       "   1326,\n",
       "   3581,\n",
       "   43,\n",
       "   1023,\n",
       "   10,\n",
       "   417,\n",
       "   372,\n",
       "   1245,\n",
       "   320,\n",
       "   75,\n",
       "   281,\n",
       "   470,\n",
       "   746,\n",
       "   735,\n",
       "   660,\n",
       "   67]),\n",
       " (7000,\n",
       "  [602,\n",
       "   265,\n",
       "   293,\n",
       "   113,\n",
       "   270,\n",
       "   253,\n",
       "   2083,\n",
       "   1106,\n",
       "   773,\n",
       "   955,\n",
       "   2641,\n",
       "   579,\n",
       "   548,\n",
       "   210,\n",
       "   1218,\n",
       "   953,\n",
       "   54,\n",
       "   1107,\n",
       "   2431,\n",
       "   2232,\n",
       "   220,\n",
       "   1742,\n",
       "   412,\n",
       "   322,\n",
       "   1546,\n",
       "   1409,\n",
       "   611,\n",
       "   983,\n",
       "   135,\n",
       "   120,\n",
       "   1355,\n",
       "   2462,\n",
       "   936,\n",
       "   643,\n",
       "   290,\n",
       "   1574,\n",
       "   1246,\n",
       "   682,\n",
       "   286,\n",
       "   202,\n",
       "   748,\n",
       "   804,\n",
       "   640,\n",
       "   490,\n",
       "   116,\n",
       "   2787,\n",
       "   46,\n",
       "   741,\n",
       "   523,\n",
       "   133])]"
      ]
     },
     "execution_count": 190,
     "metadata": {},
     "output_type": "execute_result"
    }
   ],
   "source": [
    "signature_matrix_rdd.take(10)"
   ]
  },
  {
   "cell_type": "code",
   "execution_count": 191,
   "metadata": {},
   "outputs": [],
   "source": [
    "candidate_pairs = signature_matrix_rdd \\\n",
    "        .flatMap(lambda x: [(tuple([i, hash(tuple(x[1][i:i+2]))]), x[0]) for i in range(0, 50)]) \\\n",
    "        .groupByKey().map(lambda kv: list(kv[1])).filter(lambda val: len(val) > 1) \\\n",
    "        .flatMap(lambda bid_list: [pair for pair in itertools.combinations(bid_list, 2)])"
   ]
  },
  {
   "cell_type": "code",
   "execution_count": 193,
   "metadata": {},
   "outputs": [],
   "source": [
    "candidate_pairs.take(10)"
   ]
  },
  {
   "cell_type": "code",
   "execution_count": 194,
   "metadata": {},
   "outputs": [],
   "source": [
    "def computeJaccard(set1, set2):\n",
    "    \"\"\"\n",
    "    compute Jaccard Similarity\n",
    "    :param set1:\n",
    "    :param set2:\n",
    "    :return: a float number\n",
    "    \"\"\"\n",
    "    return float(float(len(set(set1) & set(set2))) / float(len(set(set1) | set(set2))))\n",
    "\n",
    "def verifySimilarity(candidate_pairs, index_data_dict,\n",
    "                     reversed_index_dict, threshold):\n",
    "    \"\"\"\n",
    "    iterate these candidate pairs,\n",
    "            and compute the jaccard similarity from original data\n",
    "    :param candidate_pairs: tuple(bidx1, bidx2)\n",
    "    :param index_data_dict: dict(bidx: [uidx1, uidx2,...])\n",
    "    :param reversed_index_dict: dict(bidx: bid_str)\n",
    "    :param threshold: jaccard similarity threshold`\n",
    "    :return: a list of dict which contain truly similar\n",
    "            bidx pair and theirs similarity\n",
    "    \"\"\"\n",
    "    result = list()\n",
    "    temp_set = set()\n",
    "    for pair in candidate_pairs:\n",
    "        if pair not in temp_set:\n",
    "            temp_set.add(pair)\n",
    "            similarity = computeJaccard(index_data_dict.get(pair[0], set()),\n",
    "                                        index_data_dict.get(pair[1], set()))\n",
    "            if similarity >= threshold:\n",
    "                result.append({\"b1\": reversed_index_dict[pair[0]],\n",
    "                               \"b2\": reversed_index_dict[pair[1]],\n",
    "                               \"sim\": similarity})\n",
    "    return result\n"
   ]
  },
  {
   "cell_type": "code",
   "execution_count": 195,
   "metadata": {},
   "outputs": [],
   "source": [
    "    result_list = verifySimilarity(candidate_pairs=set(candidate_pairs.collect()),\n",
    "                                   index_data_dict=business_user_tokenized_dict,\n",
    "                                   reversed_index_dict=reversed_index_bus_dict,\n",
    "                                   threshold=0.05)\n"
   ]
  },
  {
   "cell_type": "code",
   "execution_count": 196,
   "metadata": {},
   "outputs": [
    {
     "data": {
      "text/plain": [
       "13413"
      ]
     },
     "execution_count": 196,
     "metadata": {},
     "output_type": "execute_result"
    }
   ],
   "source": [
    "len(result_list)"
   ]
  },
  {
   "cell_type": "code",
   "execution_count": 197,
   "metadata": {},
   "outputs": [
    {
     "data": {
      "text/plain": [
       "178832"
      ]
     },
     "execution_count": 197,
     "metadata": {},
     "output_type": "execute_result"
    }
   ],
   "source": [
    "len(candidate_pairs_list)"
   ]
  },
  {
   "cell_type": "code",
   "execution_count": null,
   "metadata": {},
   "outputs": [],
   "source": []
  },
  {
   "cell_type": "code",
   "execution_count": null,
   "metadata": {},
   "outputs": [],
   "source": []
  },
  {
   "cell_type": "code",
   "execution_count": null,
   "metadata": {},
   "outputs": [],
   "source": []
  },
  {
   "cell_type": "code",
   "execution_count": null,
   "metadata": {},
   "outputs": [],
   "source": []
  },
  {
   "cell_type": "code",
   "execution_count": null,
   "metadata": {},
   "outputs": [],
   "source": []
  },
  {
   "cell_type": "code",
   "execution_count": null,
   "metadata": {},
   "outputs": [],
   "source": []
  },
  {
   "cell_type": "code",
   "execution_count": null,
   "metadata": {},
   "outputs": [],
   "source": []
  },
  {
   "cell_type": "code",
   "execution_count": null,
   "metadata": {},
   "outputs": [],
   "source": []
  },
  {
   "cell_type": "code",
   "execution_count": null,
   "metadata": {},
   "outputs": [],
   "source": []
  },
  {
   "cell_type": "code",
   "execution_count": null,
   "metadata": {},
   "outputs": [],
   "source": []
  },
  {
   "cell_type": "code",
   "execution_count": null,
   "metadata": {},
   "outputs": [],
   "source": []
  },
  {
   "cell_type": "code",
   "execution_count": null,
   "metadata": {},
   "outputs": [],
   "source": []
  },
  {
   "cell_type": "code",
   "execution_count": null,
   "metadata": {},
   "outputs": [],
   "source": []
  },
  {
   "cell_type": "code",
   "execution_count": null,
   "metadata": {},
   "outputs": [],
   "source": []
  },
  {
   "cell_type": "code",
   "execution_count": null,
   "metadata": {},
   "outputs": [],
   "source": []
  },
  {
   "cell_type": "code",
   "execution_count": null,
   "metadata": {},
   "outputs": [],
   "source": []
  },
  {
   "cell_type": "code",
   "execution_count": null,
   "metadata": {},
   "outputs": [],
   "source": []
  },
  {
   "cell_type": "code",
   "execution_count": null,
   "metadata": {},
   "outputs": [],
   "source": []
  },
  {
   "cell_type": "code",
   "execution_count": null,
   "metadata": {},
   "outputs": [],
   "source": []
  },
  {
   "cell_type": "code",
   "execution_count": null,
   "metadata": {},
   "outputs": [],
   "source": []
  },
  {
   "cell_type": "code",
   "execution_count": null,
   "metadata": {},
   "outputs": [],
   "source": []
  },
  {
   "cell_type": "code",
   "execution_count": null,
   "metadata": {},
   "outputs": [],
   "source": []
  },
  {
   "cell_type": "code",
   "execution_count": null,
   "metadata": {},
   "outputs": [],
   "source": []
  },
  {
   "cell_type": "code",
   "execution_count": null,
   "metadata": {},
   "outputs": [],
   "source": []
  },
  {
   "cell_type": "code",
   "execution_count": null,
   "metadata": {},
   "outputs": [],
   "source": []
  },
  {
   "cell_type": "code",
   "execution_count": null,
   "metadata": {},
   "outputs": [],
   "source": []
  },
  {
   "cell_type": "code",
   "execution_count": null,
   "metadata": {},
   "outputs": [],
   "source": []
  },
  {
   "cell_type": "code",
   "execution_count": null,
   "metadata": {},
   "outputs": [],
   "source": []
  },
  {
   "cell_type": "code",
   "execution_count": null,
   "metadata": {},
   "outputs": [],
   "source": []
  },
  {
   "cell_type": "code",
   "execution_count": null,
   "metadata": {},
   "outputs": [],
   "source": []
  },
  {
   "cell_type": "code",
   "execution_count": null,
   "metadata": {},
   "outputs": [],
   "source": []
  },
  {
   "cell_type": "code",
   "execution_count": null,
   "metadata": {},
   "outputs": [],
   "source": []
  },
  {
   "cell_type": "code",
   "execution_count": null,
   "metadata": {},
   "outputs": [],
   "source": []
  },
  {
   "cell_type": "code",
   "execution_count": null,
   "metadata": {},
   "outputs": [],
   "source": [
    "candidate_pairs_list = candidate_pairs.collect()"
   ]
  },
  {
   "cell_type": "code",
   "execution_count": null,
   "metadata": {},
   "outputs": [],
   "source": [
    "candidate_pairs.take(10)"
   ]
  },
  {
   "cell_type": "code",
   "execution_count": null,
   "metadata": {},
   "outputs": [],
   "source": []
  },
  {
   "cell_type": "code",
   "execution_count": null,
   "metadata": {},
   "outputs": [],
   "source": []
  },
  {
   "cell_type": "code",
   "execution_count": null,
   "metadata": {},
   "outputs": [],
   "source": []
  },
  {
   "cell_type": "code",
   "execution_count": null,
   "metadata": {},
   "outputs": [],
   "source": []
  },
  {
   "cell_type": "code",
   "execution_count": null,
   "metadata": {},
   "outputs": [],
   "source": []
  },
  {
   "cell_type": "code",
   "execution_count": null,
   "metadata": {},
   "outputs": [],
   "source": []
  },
  {
   "cell_type": "code",
   "execution_count": null,
   "metadata": {},
   "outputs": [],
   "source": []
  },
  {
   "cell_type": "code",
   "execution_count": null,
   "metadata": {},
   "outputs": [],
   "source": []
  },
  {
   "cell_type": "code",
   "execution_count": null,
   "metadata": {},
   "outputs": [],
   "source": [
    "import math\n",
    "value_list = [698,\n",
    "   476,\n",
    "   81,\n",
    "   350,\n",
    "   145,\n",
    "   275,\n",
    "   580,\n",
    "   232,\n",
    "   195,\n",
    "   730,\n",
    "   13,\n",
    "   135,\n",
    "   62,\n",
    "   1029,\n",
    "   955,\n",
    "   252,\n",
    "   786,\n",
    "   97,\n",
    "   282,\n",
    "   46,\n",
    "   0,\n",
    "   154,\n",
    "   51,\n",
    "   313,\n",
    "   596,\n",
    "   249,\n",
    "   231,\n",
    "   319,\n",
    "   143,\n",
    "   464,\n",
    "   60,\n",
    "   24,\n",
    "   156,\n",
    "   39,\n",
    "   804,\n",
    "   1174,\n",
    "   1067,\n",
    "   26,\n",
    "   265,1045,1028,602,301,113,1065,110,714,78,1948,76]\n",
    "chunk_num = 10\n",
    "chunk_lists = list()\n",
    "size = int(math.ceil(len(value_list) / int(chunk_num)))"
   ]
  },
  {
   "cell_type": "code",
   "execution_count": null,
   "metadata": {},
   "outputs": [],
   "source": [
    "size"
   ]
  },
  {
   "cell_type": "code",
   "execution_count": null,
   "metadata": {},
   "outputs": [],
   "source": [
    "for index, start in enumerate(range(0, len(value_list), size)):\n",
    "    chunk_lists.append((index, hash(tuple(value_list[start:start + size]))))"
   ]
  },
  {
   "cell_type": "code",
   "execution_count": null,
   "metadata": {},
   "outputs": [],
   "source": [
    "chunk_lists"
   ]
  },
  {
   "cell_type": "code",
   "execution_count": null,
   "metadata": {},
   "outputs": [],
   "source": [
    "[tuple([i//5, hash(tuple(value_list[i:i+5]))]) for i in range(0, 50, 5)]"
   ]
  },
  {
   "cell_type": "code",
   "execution_count": null,
   "metadata": {},
   "outputs": [],
   "source": []
  },
  {
   "cell_type": "code",
   "execution_count": null,
   "metadata": {},
   "outputs": [],
   "source": []
  },
  {
   "cell_type": "code",
   "execution_count": null,
   "metadata": {},
   "outputs": [],
   "source": []
  },
  {
   "cell_type": "code",
   "execution_count": null,
   "metadata": {},
   "outputs": [],
   "source": []
  },
  {
   "cell_type": "code",
   "execution_count": null,
   "metadata": {},
   "outputs": [],
   "source": []
  },
  {
   "cell_type": "code",
   "execution_count": null,
   "metadata": {},
   "outputs": [],
   "source": []
  },
  {
   "cell_type": "code",
   "execution_count": null,
   "metadata": {},
   "outputs": [],
   "source": []
  },
  {
   "cell_type": "code",
   "execution_count": null,
   "metadata": {},
   "outputs": [],
   "source": []
  },
  {
   "cell_type": "code",
   "execution_count": null,
   "metadata": {},
   "outputs": [],
   "source": []
  },
  {
   "cell_type": "code",
   "execution_count": null,
   "metadata": {},
   "outputs": [],
   "source": []
  },
  {
   "cell_type": "code",
   "execution_count": null,
   "metadata": {},
   "outputs": [],
   "source": [
    "[list(range(0,50))[i:i + 5] for i in range(0, 50, 5)]"
   ]
  },
  {
   "cell_type": "code",
   "execution_count": null,
   "metadata": {},
   "outputs": [],
   "source": []
  }
 ],
 "metadata": {
  "kernelspec": {
   "display_name": "Python 3",
   "language": "python",
   "name": "python3"
  },
  "language_info": {
   "codemirror_mode": {
    "name": "ipython",
    "version": 3
   },
   "file_extension": ".py",
   "mimetype": "text/x-python",
   "name": "python",
   "nbconvert_exporter": "python",
   "pygments_lexer": "ipython3",
   "version": "3.7.6"
  }
 },
 "nbformat": 4,
 "nbformat_minor": 4
}