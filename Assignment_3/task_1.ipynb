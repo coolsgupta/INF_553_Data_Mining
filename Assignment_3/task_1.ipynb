{
 "cells": [
  {
   "cell_type": "code",
   "execution_count": 1,
   "metadata": {},
   "outputs": [],
   "source": [
    "import findspark\n",
    "findspark.init()\n",
    "from pyspark import SparkContext, SparkConf\n"
   ]
  },
  {
   "cell_type": "code",
   "execution_count": 2,
   "metadata": {},
   "outputs": [],
   "source": [
    "conf = SparkConf()\n",
    "conf.set(\"spark.driver.memory\", \"4g\")\n",
    "conf.set(\"spark.executor.memory\", \"4g\")\n",
    "conf.setMaster('local[3]')\n",
    "conf.setAppName('Assignment_2')\n",
    "sc = SparkContext.getOrCreate(conf)"
   ]
  },
  {
   "cell_type": "code",
   "execution_count": 3,
   "metadata": {},
   "outputs": [],
   "source": [
    "import json\n",
    "import math\n",
    "import itertools\n",
    "import random\n",
    "import sys"
   ]
  },
  {
   "cell_type": "code",
   "execution_count": 4,
   "metadata": {},
   "outputs": [],
   "source": [
    "reviews_json = sc.textFile('asnlib/publicdata/train_review.json').map(json.loads)"
   ]
  },
  {
   "cell_type": "code",
   "execution_count": 5,
   "metadata": {},
   "outputs": [],
   "source": [
    "user_business_pairs = reviews_json.map(lambda x: (x.get('user_id'), x.get('business_id'))).distinct()"
   ]
  },
  {
   "cell_type": "code",
   "execution_count": 6,
   "metadata": {},
   "outputs": [
    {
     "data": {
      "text/plain": [
       "[('OLR4DvqFxCKLOEHqfAxpqQ', 'zK7sltLeRRioqYwgLiWUIA'),\n",
       " ('0XMLbsJt-fvcQsOHt3_B_Q', 'eTXYID00jGxq1vZpntBUFw'),\n",
       " ('bQCHF5rn5lMI9c5kEwCaNA', 'na4Th5DrNauOv-c43QQFvA'),\n",
       " ('fiGqQ7pIGKyZ9G0RqWLMpg', 'IVieU4_z2Y9BsRANZYMNNg'),\n",
       " ('sDlRFzGHzfpFHaxvJ1JtTg', 'avkOIpslBUFZMQhELpl3JQ'),\n",
       " ('qRU7nYMJIV05lpKQq4jVjw', 'jobP3ywRd3QNZ_GCoPG2DQ'),\n",
       " ('d976WkRYJVqJyP3vH2Kayg', 'w6-qlTncaWlSxTJwK_HvfQ'),\n",
       " ('v5dxjxKLuINf5E6_kYckXg', 'MgSd4P3ATkiywbbraFygHg'),\n",
       " ('mLJ3zQwiEzAIBaXb-7iXBw', '3xykzfVY2PbdjKCRDLdzTQ'),\n",
       " ('PQ6-FZpUn2oFLyBGvdiG3w', 'bQ_wtZvMb__OhprY5bF9aQ')]"
      ]
     },
     "execution_count": 6,
     "metadata": {},
     "output_type": "execute_result"
    }
   ],
   "source": [
    "user_business_pairs.take(10)"
   ]
  },
  {
   "cell_type": "code",
   "execution_count": 7,
   "metadata": {},
   "outputs": [],
   "source": [
    "user_tokens_zip = user_business_pairs.map(lambda x: x[0]).distinct().sortBy(lambda x: x).zipWithIndex().map(lambda x: (x[0], x[1]))"
   ]
  },
  {
   "cell_type": "code",
   "execution_count": 8,
   "metadata": {},
   "outputs": [],
   "source": [
    "user_tokens_dict = user_tokens_zip.collectAsMap()"
   ]
  },
  {
   "cell_type": "code",
   "execution_count": 9,
   "metadata": {},
   "outputs": [],
   "source": [
    "business_tokens_zip = user_business_pairs.map(lambda x: x[1]).distinct().sortBy(lambda x: x).zipWithIndex().map(lambda x: (x[0], x[1]))"
   ]
  },
  {
   "cell_type": "code",
   "execution_count": 10,
   "metadata": {},
   "outputs": [],
   "source": [
    "business_tokens_dict = business_tokens_zip.collectAsMap()"
   ]
  },
  {
   "cell_type": "code",
   "execution_count": 11,
   "metadata": {},
   "outputs": [],
   "source": [
    "inverse_business_tokens_dict = {v: k for k, v in business_tokens_dict.items()}"
   ]
  },
  {
   "cell_type": "code",
   "execution_count": 12,
   "metadata": {},
   "outputs": [
    {
     "data": {
      "text/plain": [
       "10253"
      ]
     },
     "execution_count": 12,
     "metadata": {},
     "output_type": "execute_result"
    }
   ],
   "source": [
    "len(business_tokens_dict)"
   ]
  },
  {
   "cell_type": "code",
   "execution_count": 13,
   "metadata": {},
   "outputs": [],
   "source": [
    "def get_min_hash_functions(num_func, buckets):\n",
    "    min_hash_func_list = []\n",
    "    list_a = random.sample(range(1, sys.maxsize - 1), num_func)\n",
    "    list_b = random.sample(range(0, sys.maxsize - 1), num_func)\n",
    "    p = 233333333333\n",
    "    def build_min_hash_func(a,b,p,m):\n",
    "        def min_hash_func(x):\n",
    "            return (((a*x + b)%p)%m)\n",
    "        return min_hash_func\n",
    "\n",
    "    for a,b in zip(list_a, list_b):\n",
    "        min_hash_func_list.append(build_min_hash_func(a,b,p,buckets))\n",
    "        \n",
    "    return min_hash_func_list\n",
    "\n",
    "#         min_hash_func_list.append(lambda x: ((a*x + b)%p)%buckets)\n",
    "#         print (a,b)\n"
   ]
  },
  {
   "cell_type": "code",
   "execution_count": 14,
   "metadata": {},
   "outputs": [],
   "source": [
    "min_hash_func_list = get_min_hash_functions(30, len(user_tokens_dict)*2)"
   ]
  },
  {
   "cell_type": "code",
   "execution_count": 15,
   "metadata": {},
   "outputs": [],
   "source": [
    "user_hashed_values = user_tokens_zip.map(lambda x: (user_tokens_dict.get(x[0]), [min_hash(x[1]) for min_hash in min_hash_func_list]))"
   ]
  },
  {
   "cell_type": "code",
   "execution_count": 16,
   "metadata": {},
   "outputs": [
    {
     "data": {
      "text/plain": [
       "(0,\n",
       " [47926,\n",
       "  23918,\n",
       "  7897,\n",
       "  23406,\n",
       "  49708,\n",
       "  846,\n",
       "  47524,\n",
       "  46603,\n",
       "  39776,\n",
       "  29012,\n",
       "  20616,\n",
       "  21993,\n",
       "  23072,\n",
       "  19407,\n",
       "  4288,\n",
       "  31444,\n",
       "  36906,\n",
       "  50223,\n",
       "  19046,\n",
       "  3234,\n",
       "  3016,\n",
       "  20276,\n",
       "  3011,\n",
       "  34423,\n",
       "  7670,\n",
       "  31066,\n",
       "  33515,\n",
       "  11994,\n",
       "  12208,\n",
       "  36285])"
      ]
     },
     "execution_count": 16,
     "metadata": {},
     "output_type": "execute_result"
    }
   ],
   "source": [
    "user_hashed_values.first()"
   ]
  },
  {
   "cell_type": "code",
   "execution_count": 17,
   "metadata": {},
   "outputs": [],
   "source": [
    "user_business_tokenized_map = user_business_pairs.map(lambda x: (user_tokens_dict.get(x[0]), business_tokens_dict.get(x[1]))).groupByKey().map(lambda x: (x[0], list(set(x[1]))))"
   ]
  },
  {
   "cell_type": "code",
   "execution_count": 18,
   "metadata": {},
   "outputs": [
    {
     "data": {
      "text/plain": [
       "(7420,\n",
       " [7168,\n",
       "  8897,\n",
       "  2144,\n",
       "  1889,\n",
       "  6853,\n",
       "  5575,\n",
       "  6700,\n",
       "  1327,\n",
       "  8338,\n",
       "  7540,\n",
       "  9941,\n",
       "  9174,\n",
       "  7063,\n",
       "  7259,\n",
       "  8348,\n",
       "  253,\n",
       "  5695])"
      ]
     },
     "execution_count": 18,
     "metadata": {},
     "output_type": "execute_result"
    }
   ],
   "source": [
    "user_business_tokenized_map.first()"
   ]
  },
  {
   "cell_type": "code",
   "execution_count": 19,
   "metadata": {},
   "outputs": [],
   "source": [
    "business_user_tokenized_map = user_business_pairs.map(lambda x: (business_tokens_dict.get(x[1]), user_tokens_dict.get(x[0]))).groupByKey().map(lambda x: (x[0], list(set(x[1]))))"
   ]
  },
  {
   "cell_type": "code",
   "execution_count": 20,
   "metadata": {},
   "outputs": [],
   "source": [
    "business_user_tokenized_dict = business_user_tokenized_map.collectAsMap()"
   ]
  },
  {
   "cell_type": "code",
   "execution_count": null,
   "metadata": {},
   "outputs": [],
   "source": []
  },
  {
   "cell_type": "code",
   "execution_count": 21,
   "metadata": {},
   "outputs": [
    {
     "data": {
      "text/plain": [
       "[19874,\n",
       " 21413,\n",
       " 24507,\n",
       " 15211,\n",
       " 9868,\n",
       " 2190,\n",
       " 5212,\n",
       " 15217,\n",
       " 5077,\n",
       " 11514,\n",
       " 11035,\n",
       " 5372,\n",
       " 22429,\n",
       " 20670]"
      ]
     },
     "execution_count": 21,
     "metadata": {},
     "output_type": "execute_result"
    }
   ],
   "source": [
    "business_user_tokenized_dict[6188]"
   ]
  },
  {
   "cell_type": "code",
   "execution_count": 22,
   "metadata": {},
   "outputs": [],
   "source": [
    "signature_matrix_rdd = user_business_tokenized_map.leftOuterJoin(user_hashed_values)"
   ]
  },
  {
   "cell_type": "code",
   "execution_count": 23,
   "metadata": {},
   "outputs": [
    {
     "data": {
      "text/plain": [
       "(7420,\n",
       " ([7168,\n",
       "   8897,\n",
       "   2144,\n",
       "   1889,\n",
       "   6853,\n",
       "   5575,\n",
       "   6700,\n",
       "   1327,\n",
       "   8338,\n",
       "   7540,\n",
       "   9941,\n",
       "   9174,\n",
       "   7063,\n",
       "   7259,\n",
       "   8348,\n",
       "   253,\n",
       "   5695],\n",
       "  [34671,\n",
       "   14771,\n",
       "   33041,\n",
       "   51469,\n",
       "   32213,\n",
       "   31820,\n",
       "   3615,\n",
       "   42226,\n",
       "   39091,\n",
       "   10717,\n",
       "   18333,\n",
       "   36778,\n",
       "   26352,\n",
       "   50304,\n",
       "   27948,\n",
       "   36184,\n",
       "   51723,\n",
       "   13459,\n",
       "   10546,\n",
       "   32846,\n",
       "   8357,\n",
       "   18013,\n",
       "   16686,\n",
       "   20931,\n",
       "   49318,\n",
       "   22382,\n",
       "   34285,\n",
       "   15623,\n",
       "   7608,\n",
       "   44082]))"
      ]
     },
     "execution_count": 23,
     "metadata": {},
     "output_type": "execute_result"
    }
   ],
   "source": [
    "signature_matrix_rdd.first()"
   ]
  },
  {
   "cell_type": "code",
   "execution_count": 24,
   "metadata": {},
   "outputs": [],
   "source": [
    "signature_matrix_rdd = signature_matrix_rdd.map(lambda x: x[1])"
   ]
  },
  {
   "cell_type": "code",
   "execution_count": 25,
   "metadata": {},
   "outputs": [],
   "source": [
    "signature_matrix_rdd = signature_matrix_rdd.flatMap(lambda business_set: [(x, business_set[1]) for x in business_set[0]]) \\"
   ]
  },
  {
   "cell_type": "code",
   "execution_count": 26,
   "metadata": {},
   "outputs": [
    {
     "data": {
      "text/plain": [
       "[(7168,\n",
       "  [34671,\n",
       "   14771,\n",
       "   33041,\n",
       "   51469,\n",
       "   32213,\n",
       "   31820,\n",
       "   3615,\n",
       "   42226,\n",
       "   39091,\n",
       "   10717,\n",
       "   18333,\n",
       "   36778,\n",
       "   26352,\n",
       "   50304,\n",
       "   27948,\n",
       "   36184,\n",
       "   51723,\n",
       "   13459,\n",
       "   10546,\n",
       "   32846,\n",
       "   8357,\n",
       "   18013,\n",
       "   16686,\n",
       "   20931,\n",
       "   49318,\n",
       "   22382,\n",
       "   34285,\n",
       "   15623,\n",
       "   7608,\n",
       "   44082]),\n",
       " (7168,\n",
       "  [34266,\n",
       "   44654,\n",
       "   41291,\n",
       "   444,\n",
       "   43717,\n",
       "   44144,\n",
       "   27922,\n",
       "   34744,\n",
       "   24137,\n",
       "   6783,\n",
       "   4136,\n",
       "   50456,\n",
       "   48306,\n",
       "   33730,\n",
       "   39332,\n",
       "   39351,\n",
       "   21223,\n",
       "   40403,\n",
       "   45746,\n",
       "   34809,\n",
       "   38877,\n",
       "   38082,\n",
       "   18981,\n",
       "   1170,\n",
       "   15208,\n",
       "   39702,\n",
       "   36431,\n",
       "   9328,\n",
       "   13253,\n",
       "   2364]),\n",
       " (7168,\n",
       "  [34606,\n",
       "   22010,\n",
       "   15241,\n",
       "   18190,\n",
       "   52330,\n",
       "   49960,\n",
       "   25769,\n",
       "   41482,\n",
       "   42464,\n",
       "   490,\n",
       "   25930,\n",
       "   36683,\n",
       "   5182,\n",
       "   29518,\n",
       "   39633,\n",
       "   28568,\n",
       "   28022,\n",
       "   43404,\n",
       "   48815,\n",
       "   42558,\n",
       "   29848,\n",
       "   36422,\n",
       "   13415,\n",
       "   7544,\n",
       "   24266,\n",
       "   4296,\n",
       "   24061,\n",
       "   36218,\n",
       "   4530,\n",
       "   11226])]"
      ]
     },
     "execution_count": 26,
     "metadata": {},
     "output_type": "execute_result"
    }
   ],
   "source": [
    "signature_matrix_rdd.filter(lambda x: x[0]==7168).take(3)"
   ]
  },
  {
   "cell_type": "code",
   "execution_count": 27,
   "metadata": {},
   "outputs": [],
   "source": [
    "signature_matrix_rdd = signature_matrix_rdd.reduceByKey(lambda a,b: [min(x, y) for x, y in zip(a, b)]).coalesce(2)"
   ]
  },
  {
   "cell_type": "code",
   "execution_count": 28,
   "metadata": {},
   "outputs": [
    {
     "data": {
      "text/plain": [
       "30"
      ]
     },
     "execution_count": 28,
     "metadata": {},
     "output_type": "execute_result"
    }
   ],
   "source": [
    "len(signature_matrix_rdd.first()[1])"
   ]
  },
  {
   "cell_type": "code",
   "execution_count": 41,
   "metadata": {},
   "outputs": [],
   "source": [
    "candidate_pairs = signature_matrix_rdd \\\n",
    "        .flatMap(lambda x: [(tuple([i, hash(tuple(x[1][i:i+1]))]), x[0]) for i in range(0, 30)]) \\\n",
    "        .groupByKey().map(lambda kv: list(kv[1])).filter(lambda val: len(val) > 1) \\\n",
    "        .flatMap(lambda bid_list: [pair for pair in itertools.combinations(bid_list, 2)])"
   ]
  },
  {
   "cell_type": "code",
   "execution_count": 32,
   "metadata": {},
   "outputs": [],
   "source": [
    "candidate_pairs = signature_matrix_rdd \\\n",
    "    .flatMap(lambda kv: [(tuple(chunk), kv[0]) for chunk in splitList(kv[1], 30)]) \\\n",
    "    .groupByKey().map(lambda kv: list(kv[1])).filter(lambda val: len(val) > 1) \\\n",
    "    .flatMap(lambda bid_list: [pair for pair in itertools.combinations(bid_list, 2)])\n"
   ]
  },
  {
   "cell_type": "code",
   "execution_count": 34,
   "metadata": {},
   "outputs": [
    {
     "data": {
      "text/plain": [
       "3028472"
      ]
     },
     "execution_count": 34,
     "metadata": {},
     "output_type": "execute_result"
    }
   ],
   "source": [
    "candidate_pairs.count()"
   ]
  },
  {
   "cell_type": "code",
   "execution_count": 42,
   "metadata": {},
   "outputs": [
    {
     "data": {
      "text/plain": [
       "3028472"
      ]
     },
     "execution_count": 42,
     "metadata": {},
     "output_type": "execute_result"
    }
   ],
   "source": [
    "candidate_pairs.count()"
   ]
  },
  {
   "cell_type": "code",
   "execution_count": 29,
   "metadata": {},
   "outputs": [],
   "source": [
    "def splitList(value_list, chunk_num):\n",
    "    \"\"\"\n",
    "    split a list in to several chunks\n",
    "    :param value_list: a list whose shape is [N]\n",
    "    :param chunk_num: the number of chunk you want to split\n",
    "    :return: a list of list\n",
    "    e.g. return [[1,a], [2,b], [3,c], [4,d]] and a + b + c + d = N\n",
    "    \"\"\"\n",
    "    chunk_lists = list()\n",
    "    size = int(math.ceil(len(value_list) / int(chunk_num)))\n",
    "    for index, start in enumerate(range(0, len(value_list), size)):\n",
    "        chunk_lists.append((index, hash(tuple(value_list[start:start + size]))))\n",
    "    return chunk_lists\n",
    "\n",
    "def computeJaccard(set1, set2):\n",
    "    \"\"\"\n",
    "    compute Jaccard Similarity\n",
    "    :param set1:\n",
    "    :param set2:\n",
    "    :return: a float number\n",
    "    \"\"\"\n",
    "    return float(float(len(set(set1) & set(set2))) / float(len(set(set1) | set(set2))))\n",
    "\n",
    "def verifySimilarity(candidate_pairs, index_data_dict,\n",
    "                     reversed_index_dict, threshold):\n",
    "    \"\"\"\n",
    "    iterate these candidate pairs,\n",
    "            and compute the jaccard similarity from original data\n",
    "    :param candidate_pairs: tuple(bidx1, bidx2)\n",
    "    :param index_data_dict: dict(bidx: [uidx1, uidx2,...])\n",
    "    :param reversed_index_dict: dict(bidx: bid_str)\n",
    "    :param threshold: jaccard similarity threshold`\n",
    "    :return: a list of dict which contain truly similar\n",
    "            bidx pair and theirs similarity\n",
    "    \"\"\"\n",
    "    result = list()\n",
    "    temp_set = set()\n",
    "    for pair in candidate_pairs:\n",
    "        if pair not in temp_set:\n",
    "            temp_set.add(pair)\n",
    "            similarity = computeJaccard(index_data_dict.get(pair[0], set()),\n",
    "                                        index_data_dict.get(pair[1], set()))\n",
    "            if similarity >= threshold:\n",
    "                result.append({\"b1\": reversed_index_dict[pair[0]],\n",
    "                               \"b2\": reversed_index_dict[pair[1]],\n",
    "                               \"sim\": similarity})\n",
    "    return result\n"
   ]
  },
  {
   "cell_type": "code",
   "execution_count": 43,
   "metadata": {},
   "outputs": [],
   "source": [
    "result_list = verifySimilarity(candidate_pairs=set(candidate_pairs.collect()),\n",
    "                               index_data_dict=business_user_tokenized_dict,\n",
    "                               reversed_index_dict=inverse_business_tokens_dict,\n",
    "                               threshold=0.05)"
   ]
  },
  {
   "cell_type": "code",
   "execution_count": 44,
   "metadata": {},
   "outputs": [
    {
     "data": {
      "text/plain": [
       "50092"
      ]
     },
     "execution_count": 44,
     "metadata": {},
     "output_type": "execute_result"
    }
   ],
   "source": [
    "len(result_list)"
   ]
  },
  {
   "cell_type": "code",
   "execution_count": 37,
   "metadata": {},
   "outputs": [
    {
     "ename": "NameError",
     "evalue": "name 'candidate_pairs_list' is not defined",
     "output_type": "error",
     "traceback": [
      "\u001b[1;31m---------------------------------------------------------------------------\u001b[0m",
      "\u001b[1;31mNameError\u001b[0m                                 Traceback (most recent call last)",
      "\u001b[1;32m<ipython-input-37-a7c09d0de870>\u001b[0m in \u001b[0;36m<module>\u001b[1;34m\u001b[0m\n\u001b[1;32m----> 1\u001b[1;33m \u001b[0mlen\u001b[0m\u001b[1;33m(\u001b[0m\u001b[0mcandidate_pairs_list\u001b[0m\u001b[1;33m)\u001b[0m\u001b[1;33m\u001b[0m\u001b[1;33m\u001b[0m\u001b[0m\n\u001b[0m",
      "\u001b[1;31mNameError\u001b[0m: name 'candidate_pairs_list' is not defined"
     ]
    }
   ],
   "source": [
    "len(candidate_pairs_list)"
   ]
  },
  {
   "cell_type": "code",
   "execution_count": 40,
   "metadata": {},
   "outputs": [
    {
     "data": {
      "text/plain": [
       "0.8428030621687558"
      ]
     },
     "execution_count": 40,
     "metadata": {},
     "output_type": "execute_result"
    }
   ],
   "source": [
    "50092/59435"
   ]
  },
  {
   "cell_type": "code",
   "execution_count": null,
   "metadata": {},
   "outputs": [],
   "source": []
  },
  {
   "cell_type": "code",
   "execution_count": null,
   "metadata": {},
   "outputs": [],
   "source": []
  },
  {
   "cell_type": "code",
   "execution_count": null,
   "metadata": {},
   "outputs": [],
   "source": []
  },
  {
   "cell_type": "code",
   "execution_count": null,
   "metadata": {},
   "outputs": [],
   "source": []
  },
  {
   "cell_type": "code",
   "execution_count": 45,
   "metadata": {},
   "outputs": [
    {
     "data": {
      "text/plain": [
       "2.5"
      ]
     },
     "execution_count": 45,
     "metadata": {},
     "output_type": "execute_result"
    }
   ],
   "source": [
    "5/2"
   ]
  },
  {
   "cell_type": "code",
   "execution_count": null,
   "metadata": {},
   "outputs": [],
   "source": []
  },
  {
   "cell_type": "code",
   "execution_count": null,
   "metadata": {},
   "outputs": [],
   "source": []
  },
  {
   "cell_type": "code",
   "execution_count": null,
   "metadata": {},
   "outputs": [],
   "source": []
  },
  {
   "cell_type": "code",
   "execution_count": null,
   "metadata": {},
   "outputs": [],
   "source": []
  },
  {
   "cell_type": "code",
   "execution_count": null,
   "metadata": {},
   "outputs": [],
   "source": []
  },
  {
   "cell_type": "code",
   "execution_count": null,
   "metadata": {},
   "outputs": [],
   "source": []
  },
  {
   "cell_type": "code",
   "execution_count": null,
   "metadata": {},
   "outputs": [],
   "source": []
  },
  {
   "cell_type": "code",
   "execution_count": null,
   "metadata": {},
   "outputs": [],
   "source": []
  },
  {
   "cell_type": "code",
   "execution_count": null,
   "metadata": {},
   "outputs": [],
   "source": []
  },
  {
   "cell_type": "code",
   "execution_count": null,
   "metadata": {},
   "outputs": [],
   "source": []
  },
  {
   "cell_type": "code",
   "execution_count": null,
   "metadata": {},
   "outputs": [],
   "source": []
  },
  {
   "cell_type": "code",
   "execution_count": null,
   "metadata": {},
   "outputs": [],
   "source": []
  },
  {
   "cell_type": "code",
   "execution_count": null,
   "metadata": {},
   "outputs": [],
   "source": []
  },
  {
   "cell_type": "code",
   "execution_count": null,
   "metadata": {},
   "outputs": [],
   "source": []
  },
  {
   "cell_type": "code",
   "execution_count": null,
   "metadata": {},
   "outputs": [],
   "source": []
  },
  {
   "cell_type": "code",
   "execution_count": null,
   "metadata": {},
   "outputs": [],
   "source": []
  },
  {
   "cell_type": "code",
   "execution_count": null,
   "metadata": {},
   "outputs": [],
   "source": []
  },
  {
   "cell_type": "code",
   "execution_count": null,
   "metadata": {},
   "outputs": [],
   "source": []
  },
  {
   "cell_type": "code",
   "execution_count": null,
   "metadata": {},
   "outputs": [],
   "source": []
  },
  {
   "cell_type": "code",
   "execution_count": null,
   "metadata": {},
   "outputs": [],
   "source": []
  },
  {
   "cell_type": "code",
   "execution_count": null,
   "metadata": {},
   "outputs": [],
   "source": []
  },
  {
   "cell_type": "code",
   "execution_count": null,
   "metadata": {},
   "outputs": [],
   "source": []
  },
  {
   "cell_type": "code",
   "execution_count": null,
   "metadata": {},
   "outputs": [],
   "source": []
  },
  {
   "cell_type": "code",
   "execution_count": null,
   "metadata": {},
   "outputs": [],
   "source": []
  },
  {
   "cell_type": "code",
   "execution_count": null,
   "metadata": {},
   "outputs": [],
   "source": []
  },
  {
   "cell_type": "code",
   "execution_count": null,
   "metadata": {},
   "outputs": [],
   "source": []
  },
  {
   "cell_type": "code",
   "execution_count": null,
   "metadata": {},
   "outputs": [],
   "source": []
  },
  {
   "cell_type": "code",
   "execution_count": null,
   "metadata": {},
   "outputs": [],
   "source": [
    "candidate_pairs_list = candidate_pairs.collect()"
   ]
  },
  {
   "cell_type": "code",
   "execution_count": null,
   "metadata": {},
   "outputs": [],
   "source": [
    "candidate_pairs.take(10)"
   ]
  },
  {
   "cell_type": "code",
   "execution_count": null,
   "metadata": {},
   "outputs": [],
   "source": []
  },
  {
   "cell_type": "code",
   "execution_count": null,
   "metadata": {},
   "outputs": [],
   "source": []
  },
  {
   "cell_type": "code",
   "execution_count": null,
   "metadata": {},
   "outputs": [],
   "source": []
  },
  {
   "cell_type": "code",
   "execution_count": null,
   "metadata": {},
   "outputs": [],
   "source": []
  },
  {
   "cell_type": "code",
   "execution_count": null,
   "metadata": {},
   "outputs": [],
   "source": []
  },
  {
   "cell_type": "code",
   "execution_count": null,
   "metadata": {},
   "outputs": [],
   "source": []
  },
  {
   "cell_type": "code",
   "execution_count": null,
   "metadata": {},
   "outputs": [],
   "source": []
  },
  {
   "cell_type": "code",
   "execution_count": null,
   "metadata": {},
   "outputs": [],
   "source": []
  },
  {
   "cell_type": "code",
   "execution_count": null,
   "metadata": {},
   "outputs": [],
   "source": [
    "import math\n",
    "value_list = [698,\n",
    "   476,\n",
    "   81,\n",
    "   350,\n",
    "   145,\n",
    "   275,\n",
    "   580,\n",
    "   232,\n",
    "   195,\n",
    "   730,\n",
    "   13,\n",
    "   135,\n",
    "   62,\n",
    "   1029,\n",
    "   955,\n",
    "   252,\n",
    "   786,\n",
    "   97,\n",
    "   282,\n",
    "   46,\n",
    "   0,\n",
    "   154,\n",
    "   51,\n",
    "   313,\n",
    "   596,\n",
    "   249,\n",
    "   231,\n",
    "   319,\n",
    "   143,\n",
    "   464,\n",
    "   60,\n",
    "   24,\n",
    "   156,\n",
    "   39,\n",
    "   804,\n",
    "   1174,\n",
    "   1067,\n",
    "   26,\n",
    "   265,1045,1028,602,301,113,1065,110,714,78,1948,76]\n",
    "chunk_num = 10\n",
    "chunk_lists = list()\n",
    "size = int(math.ceil(len(value_list) / int(chunk_num)))"
   ]
  },
  {
   "cell_type": "code",
   "execution_count": null,
   "metadata": {},
   "outputs": [],
   "source": [
    "size"
   ]
  },
  {
   "cell_type": "code",
   "execution_count": null,
   "metadata": {},
   "outputs": [],
   "source": [
    "for index, start in enumerate(range(0, len(value_list), size)):\n",
    "    chunk_lists.append((index, hash(tuple(value_list[start:start + size]))))"
   ]
  },
  {
   "cell_type": "code",
   "execution_count": null,
   "metadata": {},
   "outputs": [],
   "source": [
    "chunk_lists"
   ]
  },
  {
   "cell_type": "code",
   "execution_count": null,
   "metadata": {},
   "outputs": [],
   "source": [
    "[tuple([i//5, hash(tuple(value_list[i:i+5]))]) for i in range(0, 50, 5)]"
   ]
  },
  {
   "cell_type": "code",
   "execution_count": null,
   "metadata": {},
   "outputs": [],
   "source": []
  },
  {
   "cell_type": "code",
   "execution_count": null,
   "metadata": {},
   "outputs": [],
   "source": []
  },
  {
   "cell_type": "code",
   "execution_count": null,
   "metadata": {},
   "outputs": [],
   "source": []
  },
  {
   "cell_type": "code",
   "execution_count": null,
   "metadata": {},
   "outputs": [],
   "source": []
  },
  {
   "cell_type": "code",
   "execution_count": null,
   "metadata": {},
   "outputs": [],
   "source": []
  },
  {
   "cell_type": "code",
   "execution_count": null,
   "metadata": {},
   "outputs": [],
   "source": []
  },
  {
   "cell_type": "code",
   "execution_count": null,
   "metadata": {},
   "outputs": [],
   "source": []
  },
  {
   "cell_type": "code",
   "execution_count": null,
   "metadata": {},
   "outputs": [],
   "source": []
  },
  {
   "cell_type": "code",
   "execution_count": null,
   "metadata": {},
   "outputs": [],
   "source": []
  },
  {
   "cell_type": "code",
   "execution_count": null,
   "metadata": {},
   "outputs": [],
   "source": []
  },
  {
   "cell_type": "code",
   "execution_count": null,
   "metadata": {},
   "outputs": [],
   "source": [
    "[list(range(0,50))[i:i + 5] for i in range(0, 50, 5)]"
   ]
  },
  {
   "cell_type": "code",
   "execution_count": null,
   "metadata": {},
   "outputs": [],
   "source": []
  }
 ],
 "metadata": {
  "kernelspec": {
   "display_name": "Python 3",
   "language": "python",
   "name": "python3"
  },
  "language_info": {
   "codemirror_mode": {
    "name": "ipython",
    "version": 3
   },
   "file_extension": ".py",
   "mimetype": "text/x-python",
   "name": "python",
   "nbconvert_exporter": "python",
   "pygments_lexer": "ipython3",
   "version": "3.7.7"
  }
 },
 "nbformat": 4,
 "nbformat_minor": 4
}
