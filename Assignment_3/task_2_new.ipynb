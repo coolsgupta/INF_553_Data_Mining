{
 "cells": [
  {
   "cell_type": "code",
   "execution_count": 1,
   "metadata": {},
   "outputs": [],
   "source": [
    "import findspark\n",
    "findspark.init()\n",
    "from pyspark import SparkContext, SparkConf"
   ]
  },
  {
   "cell_type": "code",
   "execution_count": 2,
   "metadata": {
    "pycharm": {
     "name": "#%%\n"
    }
   },
   "outputs": [],
   "source": [
    "import json\n",
    "import math\n",
    "import itertools\n",
    "import random\n",
    "import sys\n"
   ]
  },
  {
   "cell_type": "code",
   "execution_count": 3,
   "metadata": {
    "pycharm": {
     "name": "#%%\n"
    }
   },
   "outputs": [],
   "source": [
    "conf = SparkConf()\n",
    "# conf.set(\"spark.driver.memory\", \"4g\")\n",
    "# conf.set(\"spark.executor.memory\", \"4g\")\n",
    "conf.setMaster('local[8]')\n",
    "conf.setAppName('Assignment_2')\n",
    "sc = SparkContext.getOrCreate(conf)"
   ]
  },
  {
   "cell_type": "code",
   "execution_count": 4,
   "metadata": {
    "pycharm": {
     "name": "#%%\n"
    }
   },
   "outputs": [],
   "source": [
    "import re\n",
    "import string"
   ]
  },
  {
   "cell_type": "code",
   "execution_count": null,
   "metadata": {
    "pycharm": {
     "name": "#%%\n"
    }
   },
   "outputs": [],
   "source": [
    "def create_word_count_dict(word_list):\n",
    "    count_dict = {}\n",
    "    for word in word_list:\n",
    "        if word not in count_dict:\n",
    "            count_dict[word] = 0\n",
    "        count_dict[word] += 1\n",
    "    return count_dict\n"
   ]
  },
  {
   "cell_type": "code",
   "execution_count": null,
   "metadata": {
    "pycharm": {
     "name": "#%%\n"
    }
   },
   "outputs": [],
   "source": [
    "def get_tf_scores(word_dict):\n",
    "    max_freq = max(word_dict.values())\n",
    "    tf_scores = {}\n",
    "    for word in word_dict:\n",
    "        tf_scores[word] = word_dict[word]/max_freq\n",
    "    return tf_scores\n"
   ]
  },
  {
   "cell_type": "code",
   "execution_count": null,
   "metadata": {
    "pycharm": {
     "name": "#%%\n"
    }
   },
   "outputs": [],
   "source": [
    "reviews_json = sc.textFile('asnlib/publicdata/train_review.json').map(json.loads)"
   ]
  },
  {
   "cell_type": "code",
   "execution_count": null,
   "metadata": {
    "pycharm": {
     "name": "#%%\n"
    }
   },
   "outputs": [],
   "source": [
    "reviews_json.first()"
   ]
  },
  {
   "cell_type": "code",
   "execution_count": null,
   "metadata": {
    "pycharm": {
     "name": "#%%\n"
    }
   },
   "outputs": [],
   "source": [
    "users_token_dict = reviews_json.map(lambda x: x.get('user_id')).distinct().sortBy(lambda x: x).zipWithIndex().collectAsMap()"
   ]
  },
  {
   "cell_type": "code",
   "execution_count": null,
   "metadata": {
    "pycharm": {
     "name": "#%%\n"
    }
   },
   "outputs": [],
   "source": [
    "business_token_dict = reviews_json.map(lambda x: x.get('business_id')).distinct().sortBy(lambda x: x).zipWithIndex().collectAsMap()"
   ]
  },
  {
   "cell_type": "code",
   "execution_count": null,
   "metadata": {
    "pycharm": {
     "name": "#%%\n"
    }
   },
   "outputs": [],
   "source": [
    "users_token_dict"
   ]
  },
  {
   "cell_type": "code",
   "execution_count": null,
   "metadata": {
    "pycharm": {
     "name": "#%%\n"
    }
   },
   "outputs": [],
   "source": [
    "stop_words = set(word.strip() for word in open(\"asnlib/publicdata/stopwords\"))"
   ]
  },
  {
   "cell_type": "code",
   "execution_count": null,
   "metadata": {
    "pycharm": {
     "name": "#%%\n"
    }
   },
   "outputs": [],
   "source": [
    "business_word_pairs_rdd = reviews_json \\\n",
    "        .map(lambda x: (x.get('business_id'), x.get('text'))) \\\n",
    "        .flatMap(lambda x: [(x[0], word) for word in re.split(r'[{}]'.format(string.whitespace + string.punctuation), x[1].lower())]) \\\n",
    "        .mapValues(lambda x: x.strip(r'[{}]'.format(string.punctuation + string.digits))) \\\n",
    "        .filter(lambda x: x[1] and x[1] != '' and x[1] not in string.ascii_lowercase and x[1] not in string.digits and x[1] not in stop_words)"
   ]
  },
  {
   "cell_type": "code",
   "execution_count": null,
   "metadata": {},
   "outputs": [],
   "source": [
    "business_word_pairs_rdd.first()"
   ]
  },
  {
   "cell_type": "code",
   "execution_count": null,
   "metadata": {},
   "outputs": [],
   "source": [
    "words_token_dict = business_words.map(lambda x: x[1]).distinct().sortBy(lambda x: x).zipWithIndex().collectAsMap()"
   ]
  },
  {
   "cell_type": "code",
   "execution_count": null,
   "metadata": {},
   "outputs": [],
   "source": [
    "words_token_dict"
   ]
  },
  {
   "cell_type": "code",
   "execution_count": null,
   "metadata": {},
   "outputs": [],
   "source": [
    "business_words_tokenized_pairs = business_words.map(lambda x: (business_token_dict[x[0]], words_token_dict[x[1]]))"
   ]
  },
  {
   "cell_type": "code",
   "execution_count": null,
   "metadata": {
    "pycharm": {
     "name": "#%%\n"
    }
   },
   "outputs": [],
   "source": [
    "business_review_words = business_words_tokenized_pairs.groupByKey().map(lambda x: (x[0], list(x[1])))"
   ]
  },
  {
   "cell_type": "code",
   "execution_count": null,
   "metadata": {
    "pycharm": {
     "name": "#%%\n"
    }
   },
   "outputs": [],
   "source": [
    "business_review_word_counts = business_review_words.map(lambda x: (x[0], create_word_count_dict(x[1])))"
   ]
  },
  {
   "cell_type": "code",
   "execution_count": null,
   "metadata": {
    "pycharm": {
     "name": "#%%\n"
    }
   },
   "outputs": [],
   "source": [
    "business_tf_scores = business_review_word_counts.map(lambda x: (x[0], get_tf_scores(x[1])))"
   ]
  },
  {
   "cell_type": "code",
   "execution_count": null,
   "metadata": {
    "pycharm": {
     "name": "#%%\n"
    }
   },
   "outputs": [],
   "source": [
    "business_tf_scores.first()"
   ]
  },
  {
   "cell_type": "code",
   "execution_count": null,
   "metadata": {},
   "outputs": [],
   "source": []
  },
  {
   "cell_type": "code",
   "execution_count": null,
   "metadata": {},
   "outputs": [],
   "source": []
  },
  {
   "cell_type": "code",
   "execution_count": null,
   "metadata": {
    "pycharm": {
     "name": "#%%\n"
    }
   },
   "outputs": [],
   "source": [
    "word_business_occurences = business_words_tokenized_pairs.map(lambda x: (x[1], x[0])).groupByKey().map(lambda x: (x[0], list(set(x[1]))))"
   ]
  },
  {
   "cell_type": "code",
   "execution_count": null,
   "metadata": {
    "pycharm": {
     "name": "#%%\n"
    }
   },
   "outputs": [],
   "source": [
    "word_business.first()"
   ]
  },
  {
   "cell_type": "code",
   "execution_count": null,
   "metadata": {},
   "outputs": [],
   "source": [
    "word_business_dict = word_business_occurences.collectAsMap()"
   ]
  },
  {
   "cell_type": "code",
   "execution_count": null,
   "metadata": {},
   "outputs": [],
   "source": [
    "business_token_dict['bZMcorDrciRbjdjRyANcjA']"
   ]
  },
  {
   "cell_type": "code",
   "execution_count": null,
   "metadata": {},
   "outputs": [],
   "source": []
  },
  {
   "cell_type": "code",
   "execution_count": null,
   "metadata": {
    "pycharm": {
     "name": "#%%\n"
    }
   },
   "outputs": [],
   "source": [
    "business_word_idf = word_business_occurences.map(lambda x: (x[0], math.log(len(business_token_dict)/len(x[1]), 2)))"
   ]
  },
  {
   "cell_type": "code",
   "execution_count": null,
   "metadata": {
    "pycharm": {
     "name": "#%%\n"
    }
   },
   "outputs": [],
   "source": [
    "business_word_idf.take(2)"
   ]
  },
  {
   "cell_type": "code",
   "execution_count": null,
   "metadata": {
    "pycharm": {
     "name": "#%%\n"
    }
   },
   "outputs": [],
   "source": [
    "business_word_idf_dict = business_word_idf.collectAsMap()"
   ]
  },
  {
   "cell_type": "code",
   "execution_count": null,
   "metadata": {
    "pycharm": {
     "name": "#%%\n"
    }
   },
   "outputs": [],
   "source": [
    "business_tf_idf = business_tf_scores.map(lambda x: (x[0], [(word, x[1][word]*business_word_idf_dict[word]) for word in x[1]]))"
   ]
  },
  {
   "cell_type": "code",
   "execution_count": null,
   "metadata": {
    "pycharm": {
     "name": "#%%\n"
    }
   },
   "outputs": [],
   "source": [
    "business_tf_idf.take(1)"
   ]
  },
  {
   "cell_type": "code",
   "execution_count": null,
   "metadata": {
    "pycharm": {
     "name": "#%%\n"
    }
   },
   "outputs": [],
   "source": [
    "business_tf_idf_dict = business_tf_idf.collectAsMap()"
   ]
  },
  {
   "cell_type": "code",
   "execution_count": null,
   "metadata": {
    "pycharm": {
     "name": "#%%\n"
    }
   },
   "outputs": [],
   "source": [
    "busine"
   ]
  },
  {
   "cell_type": "code",
   "execution_count": null,
   "metadata": {
    "pycharm": {
     "name": "#%%\n"
    }
   },
   "outputs": [],
   "source": [
    "sorted(business_tf_idf_dict[4435], key=lambda x: -x[1])"
   ]
  },
  {
   "cell_type": "code",
   "execution_count": null,
   "metadata": {
    "pycharm": {
     "name": "#%%\n"
    }
   },
   "outputs": [],
   "source": []
  },
  {
   "cell_type": "code",
   "execution_count": null,
   "metadata": {
    "pycharm": {
     "name": "#%%\n"
    }
   },
   "outputs": [],
   "source": [
    "words_token_dict['financial']"
   ]
  },
  {
   "cell_type": "code",
   "execution_count": null,
   "metadata": {},
   "outputs": [],
   "source": [
    "business_tokenized_profile = business_tf_idf.mapValues(lambda x: [word_score_pair[0] for word_score_pair in sorted(x, key=lambda record: -record[1])[:200]])"
   ]
  },
  {
   "cell_type": "code",
   "execution_count": null,
   "metadata": {},
   "outputs": [],
   "source": [
    "business_tokenized_profile_dict = business_tokenized_profile.collectAsMap()"
   ]
  },
  {
   "cell_type": "code",
   "execution_count": null,
   "metadata": {},
   "outputs": [],
   "source": []
  },
  {
   "cell_type": "code",
   "execution_count": null,
   "metadata": {},
   "outputs": [],
   "source": [
    "user_profile = reviews_json \\\n",
    "        .map(lambda x: (users_token_dict[x.get('user_id')], business_token_dict[x.get('business_id')])) \\\n",
    "        .distinct() \\\n",
    "        .flatMapValues(lambda x: business_tokenized_profile_dict[x]) \\\n",
    "        .groupByKey().mapValues(lambda x: list(set(x)))"
   ]
  },
  {
   "cell_type": "code",
   "execution_count": null,
   "metadata": {},
   "outputs": [],
   "source": [
    "user_profile.first()"
   ]
  },
  {
   "cell_type": "code",
   "execution_count": null,
   "metadata": {},
   "outputs": [],
   "source": [
    "user_tokenized_profile_dict = user_profile.collectAsMap()"
   ]
  },
  {
   "cell_type": "code",
   "execution_count": null,
   "metadata": {},
   "outputs": [],
   "source": []
  },
  {
   "cell_type": "code",
   "execution_count": null,
   "metadata": {},
   "outputs": [],
   "source": []
  },
  {
   "cell_type": "code",
   "execution_count": null,
   "metadata": {
    "pycharm": {
     "name": "#%%\n"
    }
   },
   "outputs": [],
   "source": [
    "def write_model(model):\n",
    "    with open('model.txt','w') as file:\n",
    "        for line in model:\n",
    "            file.write(json.dumps(line))\n",
    "    file.close()"
   ]
  },
  {
   "cell_type": "code",
   "execution_count": null,
   "metadata": {},
   "outputs": [],
   "source": [
    "def add_to_model(key_type, model_params):\n",
    "    additional_model_params = [\n",
    "            {\n",
    "            'key_type': key_type,\n",
    "            'id': id_token,\n",
    "            'token': model_params[id_token]\n",
    "        } for id_token in model_params\n",
    "    ]\n",
    "    return additional_model_params"
   ]
  },
  {
   "cell_type": "code",
   "execution_count": null,
   "metadata": {},
   "outputs": [],
   "source": [
    "model = []"
   ]
  },
  {
   "cell_type": "code",
   "execution_count": null,
   "metadata": {},
   "outputs": [],
   "source": [
    "model.extend(add_to_model('user_token', users_token_dict))"
   ]
  },
  {
   "cell_type": "code",
   "execution_count": null,
   "metadata": {},
   "outputs": [],
   "source": [
    "model.extend(add_to_model('business_token', business_token_dict))"
   ]
  },
  {
   "cell_type": "code",
   "execution_count": null,
   "metadata": {},
   "outputs": [],
   "source": [
    "model.extend(add_to_model('word_token', words_token_dict))"
   ]
  },
  {
   "cell_type": "code",
   "execution_count": null,
   "metadata": {},
   "outputs": [],
   "source": [
    "model.extend(add_to_model('business_profile', business_tokenized_profile_dict))"
   ]
  },
  {
   "cell_type": "code",
   "execution_count": null,
   "metadata": {},
   "outputs": [],
   "source": [
    "model.extend(add_to_model('user_profile', user_tokenized_profile_dict))"
   ]
  },
  {
   "cell_type": "code",
   "execution_count": null,
   "metadata": {},
   "outputs": [],
   "source": [
    "len(model) == len(users_token_dict) + len(business_token_dict) + len(words_token_dict) + len(business_tokenized_profile_dict) + len(user_tokenized_profile_dict)"
   ]
  },
  {
   "cell_type": "code",
   "execution_count": null,
   "metadata": {},
   "outputs": [],
   "source": []
  },
  {
   "cell_type": "code",
   "execution_count": null,
   "metadata": {},
   "outputs": [],
   "source": [
    "write_model(model)"
   ]
  },
  {
   "cell_type": "code",
   "execution_count": null,
   "metadata": {},
   "outputs": [],
   "source": []
  },
  {
   "cell_type": "code",
   "execution_count": null,
   "metadata": {},
   "outputs": [],
   "source": []
  },
  {
   "cell_type": "code",
   "execution_count": null,
   "metadata": {},
   "outputs": [],
   "source": []
  },
  {
   "cell_type": "code",
   "execution_count": null,
   "metadata": {},
   "outputs": [],
   "source": []
  },
  {
   "cell_type": "code",
   "execution_count": null,
   "metadata": {},
   "outputs": [],
   "source": []
  },
  {
   "cell_type": "code",
   "execution_count": null,
   "metadata": {},
   "outputs": [],
   "source": []
  },
  {
   "cell_type": "code",
   "execution_count": null,
   "metadata": {},
   "outputs": [],
   "source": []
  },
  {
   "cell_type": "markdown",
   "metadata": {
    "pycharm": {
     "name": "#%%\n"
    }
   },
   "source": [
    "## Getting profiles from scratch"
   ]
  },
  {
   "cell_type": "code",
   "execution_count": null,
   "metadata": {
    "pycharm": {
     "name": "#%%\n"
    }
   },
   "outputs": [],
   "source": [
    "user_reviews = reviews_json \\\n",
    "        .map(lambda x: (users_token_dict[x.get('user_id')], x.get('text'))) \\\n",
    "        .flatMap(lambda x: [(x[0], word) for word in re.split(escape_chars, x[1])]) \\\n",
    "        .map(lambda x: (x[0], x[1].lower().strip(string.punctuation)))  \\\n",
    "        .filter(lambda x: x[1] and x[1] != '' and x[1] not in string.ascii_lowercase and x[1] not in string.digits and x[1] not in stop_words) \\\n",
    "        .groupByKey().map(lambda x: (x[0], list(x[1]))) \\"
   ]
  },
  {
   "cell_type": "code",
   "execution_count": null,
   "metadata": {
    "pycharm": {
     "name": "#%%\n"
    }
   },
   "outputs": [],
   "source": [
    "user_review_word_counts = user_reviews.map(lambda x: (x[0], create_word_count_dict(x[1])))"
   ]
  },
  {
   "cell_type": "code",
   "execution_count": null,
   "metadata": {
    "pycharm": {
     "name": "#%%\n"
    }
   },
   "outputs": [],
   "source": [
    "user_tf_scores = user_review_word_counts.map(lambda x: (x[0], get_tf_scores(x[1])))"
   ]
  },
  {
   "cell_type": "code",
   "execution_count": null,
   "metadata": {
    "pycharm": {
     "name": "#%%\n"
    }
   },
   "outputs": [],
   "source": [
    "user_tf_scores.first()"
   ]
  },
  {
   "cell_type": "code",
   "execution_count": null,
   "metadata": {
    "pycharm": {
     "name": "#%%\n"
    }
   },
   "outputs": [],
   "source": []
  },
  {
   "cell_type": "markdown",
   "metadata": {
    "pycharm": {
     "name": "#%%\n"
    }
   },
   "source": [
    "# Predict"
   ]
  },
  {
   "cell_type": "code",
   "execution_count": 5,
   "metadata": {
    "pycharm": {
     "name": "#%%\n"
    }
   },
   "outputs": [],
   "source": [
    "system_model_params = sc.textFile('model.json')"
   ]
  },
  {
   "cell_type": "code",
   "execution_count": 6,
   "metadata": {
    "pycharm": {
     "name": "#%%\n"
    }
   },
   "outputs": [],
   "source": [
    "system_model_params = system_model_params.map(json.loads)"
   ]
  },
  {
   "cell_type": "code",
   "execution_count": 7,
   "metadata": {
    "pycharm": {
     "name": "#%%\n"
    }
   },
   "outputs": [
    {
     "data": {
      "text/plain": [
       "{'key_type': 'user_token', 'id': '---1lKK3aKOuomHnwAkAow', 'token': 0}"
      ]
     },
     "execution_count": 7,
     "metadata": {},
     "output_type": "execute_result"
    }
   ],
   "source": [
    "system_model_params.first()"
   ]
  },
  {
   "cell_type": "code",
   "execution_count": 8,
   "metadata": {
    "pycharm": {
     "name": "#%%\n"
    }
   },
   "outputs": [],
   "source": [
    "user_tokens = system_model_params.filter(lambda x: x['key_type'] == 'user_token').map(lambda x: (x['id'], x['token']))\n",
    "business_tokens = system_model_params.filter(lambda x: x['key_type'] == 'business_token').map(lambda x: (x['id'], x['token']))\n",
    "business_profile = system_model_params.filter(lambda x: x['key_type'] == 'business_profile').map(lambda x: (x['id'], x['token']))\n",
    "user_profile = system_model_params.filter(lambda x: x['key_type'] == 'user_profile').map(lambda x: (x['id'], x['token']))\n"
   ]
  },
  {
   "cell_type": "code",
   "execution_count": 9,
   "metadata": {
    "pycharm": {
     "name": "#%%\n"
    }
   },
   "outputs": [],
   "source": [
    "user_tokens_dict = user_tokens.collectAsMap()\n",
    "business_tokens_dict = business_tokens.collectAsMap()\n",
    "business_profile_dict = business_profile.collectAsMap()\n",
    "user_profile_dict = user_profile.collectAsMap()\n"
   ]
  },
  {
   "cell_type": "code",
   "execution_count": 10,
   "metadata": {
    "pycharm": {
     "name": "#%%\n"
    }
   },
   "outputs": [],
   "source": [
    "inverse_business_token_dict = {token: oid for oid, token in business_tokens_dict.items()}\n",
    "inverse_user_token_dict = {token: oid for oid, token in user_tokens_dict.items()}\n",
    "\n",
    "\n"
   ]
  },
  {
   "cell_type": "code",
   "execution_count": 11,
   "metadata": {},
   "outputs": [],
   "source": [
    "test_pairs = sc.textFile('asnlib/publicdata/test_review.json').map(json.loads).map(lambda x: (user_tokens_dict.get(x['user_id'], None), business_tokens_dict.get(x['business_id'], None))).filter(lambda x: x[0] is not None and x[1] is not None).distinct()"
   ]
  },
  {
   "cell_type": "code",
   "execution_count": 12,
   "metadata": {},
   "outputs": [
    {
     "data": {
      "text/plain": [
       "(21326, 5428)"
      ]
     },
     "execution_count": 12,
     "metadata": {},
     "output_type": "execute_result"
    }
   ],
   "source": [
    "test_pairs.first()"
   ]
  },
  {
   "cell_type": "code",
   "execution_count": 13,
   "metadata": {},
   "outputs": [],
   "source": [
    "def get_cos_sim(user_profile, business_profile):\n",
    "    if user_profile and business_profile:\n",
    "        set_user_profile = set(user_profile)\n",
    "        set_business_profile = set(business_profile)\n",
    "        return len(set_user_profile.intersection(set_business_profile))/ math.sqrt(len(set_user_profile)*len(set_business_profile))\n",
    "    else:\n",
    "        return 0"
   ]
  },
  {
   "cell_type": "code",
   "execution_count": 15,
   "metadata": {},
   "outputs": [],
   "source": [
    "sim_sets = test_pairs.map(lambda x: ((x[0], x[1]), get_cos_sim(user_profile_dict.get(x[0], None), business_profile_dict.get(x[1], None))))"
   ]
  },
  {
   "cell_type": "code",
   "execution_count": 18,
   "metadata": {},
   "outputs": [],
   "source": [
    "sim_sets_filtered = sim_sets.filter(lambda x: x[1]> 0.01)"
   ]
  },
  {
   "cell_type": "code",
   "execution_count": 19,
   "metadata": {},
   "outputs": [
    {
     "data": {
      "text/plain": [
       "58473"
      ]
     },
     "execution_count": 19,
     "metadata": {},
     "output_type": "execute_result"
    }
   ],
   "source": [
    "sim_sets.count()"
   ]
  },
  {
   "cell_type": "code",
   "execution_count": 14,
   "metadata": {},
   "outputs": [
    {
     "data": {
      "text/plain": [
       "58473"
      ]
     },
     "execution_count": 14,
     "metadata": {},
     "output_type": "execute_result"
    }
   ],
   "source": [
    "test_pairs.count()"
   ]
  },
  {
   "cell_type": "code",
   "execution_count": 20,
   "metadata": {},
   "outputs": [
    {
     "data": {
      "text/plain": [
       "58438"
      ]
     },
     "execution_count": 20,
     "metadata": {},
     "output_type": "execute_result"
    }
   ],
   "source": [
    "sim_sets_filtered.count()"
   ]
  },
  {
   "cell_type": "code",
   "execution_count": null,
   "metadata": {},
   "outputs": [],
   "source": []
  },
  {
   "cell_type": "code",
   "execution_count": null,
   "metadata": {},
   "outputs": [],
   "source": []
  },
  {
   "cell_type": "code",
   "execution_count": 21,
   "metadata": {},
   "outputs": [
    {
     "name": "stdout",
     "output_type": "stream",
     "text": [
      "2\n"
     ]
    }
   ],
   "source": [
    "if None:\n",
    "    print(1)\n",
    "else:\n",
    "    print(2)"
   ]
  },
  {
   "cell_type": "code",
   "execution_count": 22,
   "metadata": {},
   "outputs": [
    {
     "data": {
      "text/plain": [
       "[((21398, 1846), 0.08246893781033394),\n",
       " ((21990, 9964), 0.14827988690081373),\n",
       " ((23002, 7254), 0.06937978040731209),\n",
       " ((12023, 6725), 0.23539293971054817),\n",
       " ((19162, 6376), 0.1496648158458856),\n",
       " ((5986, 4074), 0.13907503268608712),\n",
       " ((441, 6991), 0.10577499661388097),\n",
       " ((26119, 8827), 0.08024287938728723),\n",
       " ((22307, 4133), 0.09016142095519147),\n",
       " ((18879, 6961), 0.17185276463055116),\n",
       " ((14945, 859), 0.14511181735933543),\n",
       " ((25423, 6285), 0.08540515179877906),\n",
       " ((6494, 3688), 0.2139912463656557),\n",
       " ((10317, 5891), 0.09795053547775788),\n",
       " ((1997, 6961), 0.1621277219666288),\n",
       " ((985, 9855), 0.11845634833373356),\n",
       " ((24880, 7112), 0.08510291089601094),\n",
       " ((21087, 4071), 0.11888402575869761),\n",
       " ((17671, 3401), 0.22342120624110437),\n",
       " ((23174, 9276), 0.1648148801644381),\n",
       " ((6010, 6136), 0.1918851827829536),\n",
       " ((8031, 3663), 0.4186703212093317),\n",
       " ((25786, 4250), 0.11244156828420224),\n",
       " ((18737, 2699), 0.09290771864676266),\n",
       " ((11176, 4996), 0.14741730291501798),\n",
       " ((13476, 6182), 0.1337688834049462),\n",
       " ((22314, 3728), 0.12057863868810254),\n",
       " ((7695, 7819), 0.2811509154014211),\n",
       " ((17145, 859), 0.260690613485787),\n",
       " ((19930, 2522), 0.08786136558081045),\n",
       " ((15306, 2832), 0.07172755297889735),\n",
       " ((22690, 1454), 0.169402512246361),\n",
       " ((20911, 899), 0.10507966877069962),\n",
       " ((7103, 8945), 0.09522661590560283),\n",
       " ((17199, 6933), 0.16391407967762503),\n",
       " ((89, 1303), 0.09692807082711874),\n",
       " ((16721, 10007), 0.16912854026053606),\n",
       " ((9311, 3863), 0.2935359711119468),\n",
       " ((14857, 8439), 0.07715640185353015),\n",
       " ((1816, 9484), 0.22697981217836877),\n",
       " ((16712, 406), 0.12710172208278792),\n",
       " ((9271, 4899), 0.1594353379844751),\n",
       " ((16995, 4635), 0.1143220486536447),\n",
       " ((65, 1333), 0.11081025026876283),\n",
       " ((11762, 5916), 0.10193734043051055),\n",
       " ((25633, 3401), 0.3001227701459527),\n",
       " ((20787, 3637), 0.1483895130260195),\n",
       " ((12894, 8504), 0.15254347836359997),\n",
       " ((22721, 7423), 0.12547766832252383),\n",
       " ((7985, 9543), 0.09671885519598004),\n",
       " ((18993, 7117), 0.10753434315909745),\n",
       " ((13609, 3701), 0.08746303296293956),\n",
       " ((15404, 9022), 0.11213856489504649),\n",
       " ((25888, 344), 0.08321548101395795),\n",
       " ((9374, 3710), 0.11926480026751872),\n",
       " ((15533, 3401), 0.26006422131751644),\n",
       " ((26130, 3658), 0.11467958229659832),\n",
       " ((2051, 8617), 0.07924932570656375),\n",
       " ((16286, 7412), 0.05525480452550641),\n",
       " ((6650, 1714), 0.09782319760890369),\n",
       " ((5023, 7229), 0.09419236159620036),\n",
       " ((5181, 683), 0.27618408833305375),\n",
       " ((15404, 9110), 0.12844962887978054),\n",
       " ((9151, 6081), 0.08843389633043003),\n",
       " ((10405, 4275), 0.11736818381714662),\n",
       " ((4776, 2204), 0.14846149779161805),\n",
       " ((25814, 3676), 0.16303051054456355),\n",
       " ((12549, 7979), 0.13087032780198274),\n",
       " ((12778, 9124), 0.11735109941086434),\n",
       " ((11570, 9176), 0.13132736031010694),\n",
       " ((13760, 84), 0.15028224621551028),\n",
       " ((11339, 7453), 0.08953384892760709),\n",
       " ((11736, 2230), 0.2324030105881595),\n",
       " ((18769, 683), 0.18240302300281586),\n",
       " ((7194, 7114), 0.17469780671633398),\n",
       " ((4500, 9930), 0.2075913310839823),\n",
       " ((14839, 6797), 0.21312504617883277),\n",
       " ((23992, 1314), 0.19614966786222804),\n",
       " ((16084, 5760), 0.2216211035889681),\n",
       " ((13084, 5180), 0.08072680399242492),\n",
       " ((16285, 5939), 0.13947934893042363),\n",
       " ((24049, 9687), 0.11089598569955114),\n",
       " ((4308, 6488), 0.1212922019702056),\n",
       " ((9153, 1571), 0.0876937902710324),\n",
       " ((19579, 2567), 0.2150505941831833),\n",
       " ((22307, 4297), 0.07399116610996692),\n",
       " ((17998, 1416), 0.07340815502539103),\n",
       " ((9460, 4132), 0.22208517489360152),\n",
       " ((21597, 9881), 0.09710630371889707),\n",
       " ((8870, 9724), 0.08267742555100156),\n",
       " ((21202, 3440), 0.19927949635154746),\n",
       " ((24657, 3863), 0.1693192138773858),\n",
       " ((8105, 9225), 0.1409227484226514),\n",
       " ((7811, 3903), 0.23789375523852657),\n",
       " ((8566, 3898), 0.08381052509226646),\n",
       " ((21393, 7651), 0.16002351538719187),\n",
       " ((11988, 632), 0.15256416491368904),\n",
       " ((20996, 8732), 0.08102413562077485),\n",
       " ((14515, 5133), 0.23717742901060423),\n",
       " ((17998, 5758), 0.07705576521298808)]"
      ]
     },
     "execution_count": 22,
     "metadata": {},
     "output_type": "execute_result"
    }
   ],
   "source": [
    "sim_sets_filtered.take(100)"
   ]
  },
  {
   "cell_type": "code",
   "execution_count": null,
   "metadata": {},
   "outputs": [],
   "source": []
  },
  {
   "cell_type": "code",
   "execution_count": null,
   "metadata": {},
   "outputs": [],
   "source": []
  },
  {
   "cell_type": "code",
   "execution_count": null,
   "metadata": {},
   "outputs": [],
   "source": []
  },
  {
   "cell_type": "code",
   "execution_count": null,
   "metadata": {},
   "outputs": [],
   "source": []
  }
 ],
 "metadata": {
  "kernelspec": {
   "display_name": "Python 3",
   "language": "python",
   "name": "python3"
  },
  "language_info": {
   "codemirror_mode": {
    "name": "ipython",
    "version": 3
   },
   "file_extension": ".py",
   "mimetype": "text/x-python",
   "name": "python",
   "nbconvert_exporter": "python",
   "pygments_lexer": "ipython3",
   "version": "3.7.7"
  }
 },
 "nbformat": 4,
 "nbformat_minor": 1
}