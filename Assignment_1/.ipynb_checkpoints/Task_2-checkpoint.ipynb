{
 "cells": [
  {
   "cell_type": "code",
   "execution_count": 1,
   "metadata": {},
   "outputs": [],
   "source": [
    "import findspark\n",
    "findspark.init()"
   ]
  },
  {
   "cell_type": "code",
   "execution_count": 2,
   "metadata": {},
   "outputs": [],
   "source": [
    "from pyspark import SparkContext\n",
    "import json"
   ]
  },
  {
   "cell_type": "code",
   "execution_count": 3,
   "metadata": {},
   "outputs": [],
   "source": [
    "sc = SparkContext('local[8]', 'task2')"
   ]
  },
  {
   "cell_type": "code",
   "execution_count": 4,
   "metadata": {},
   "outputs": [],
   "source": [
    "reviews_txt = sc.textFile('asnlib/publicdata/review.json')\n"
   ]
  },
  {
   "cell_type": "code",
   "execution_count": 5,
   "metadata": {},
   "outputs": [],
   "source": [
    "business_txt = sc.textFile('asnlib/publicdata/business.json')"
   ]
  },
  {
   "cell_type": "code",
   "execution_count": 6,
   "metadata": {},
   "outputs": [],
   "source": [
    "reviews_json = reviews_txt.map(lambda x: json.loads(x))"
   ]
  },
  {
   "cell_type": "code",
   "execution_count": null,
   "metadata": {},
   "outputs": [],
   "source": [
    "reviews_json.first()"
   ]
  },
  {
   "cell_type": "code",
   "execution_count": 7,
   "metadata": {},
   "outputs": [],
   "source": [
    "business_json = business_txt.map(lambda x: json.loads(x))"
   ]
  },
  {
   "cell_type": "code",
   "execution_count": null,
   "metadata": {},
   "outputs": [],
   "source": [
    "business_json.take(1)"
   ]
  },
  {
   "cell_type": "code",
   "execution_count": null,
   "metadata": {},
   "outputs": [],
   "source": [
    "def get_category_business_id(row):\n",
    "    category_business_list = []\n",
    "    for category in row['categories'].split(','):\n",
    "        category_business_list.append((category.strip(), row['business_id']))\n",
    "    return category_business_list"
   ]
  },
  {
   "cell_type": "code",
   "execution_count": null,
   "metadata": {},
   "outputs": [],
   "source": [
    "# categories = business_json.map(lambda x: ([cat.strip()for cat in x['categories'].split(',')], x['business_id']))\n"
   ]
  },
  {
   "cell_type": "code",
   "execution_count": null,
   "metadata": {
    "pycharm": {
     "name": "#%%\n"
    }
   },
   "outputs": [],
   "source": [
    "categories = business_json.filter(lambda x: x.get('categories',  None) is not None).flatMap(get_category_business_id).groupByKey().map(lambda x: (x[0], list(x[1])))"
   ]
  },
  {
   "cell_type": "code",
   "execution_count": null,
   "metadata": {},
   "outputs": [],
   "source": [
    "categories.first()"
   ]
  },
  {
   "cell_type": "code",
   "execution_count": null,
   "metadata": {},
   "outputs": [],
   "source": []
  },
  {
   "cell_type": "code",
   "execution_count": null,
   "metadata": {},
   "outputs": [],
   "source": []
  },
  {
   "cell_type": "code",
   "execution_count": null,
   "metadata": {
    "pycharm": {
     "name": "#%%\n"
    },
    "scrolled": true
   },
   "outputs": [],
   "source": [
    "reduced_cat = categories.reduceByKey(lambda a,b: a + b)"
   ]
  },
  {
   "cell_type": "code",
   "execution_count": null,
   "metadata": {},
   "outputs": [],
   "source": [
    "reduced_cat.collect()"
   ]
  },
  {
   "cell_type": "code",
   "execution_count": null,
   "metadata": {},
   "outputs": [],
   "source": [
    "business_ratings = reviews_json.map(lambda x: (x['business_id'], x['stars']))"
   ]
  },
  {
   "cell_type": "code",
   "execution_count": null,
   "metadata": {},
   "outputs": [],
   "source": [
    "business_ratings.count()"
   ]
  },
  {
   "cell_type": "code",
   "execution_count": null,
   "metadata": {},
   "outputs": [],
   "source": [
    "grouped_b = business_ratings.groupByKey().map(lambda x: (x[0], list(x[1])))"
   ]
  },
  {
   "cell_type": "code",
   "execution_count": null,
   "metadata": {},
   "outputs": [],
   "source": [
    "grouped_b.take(10)"
   ]
  },
  {
   "cell_type": "code",
   "execution_count": null,
   "metadata": {},
   "outputs": [],
   "source": [
    "joined = business_ratings.join(categories)"
   ]
  },
  {
   "cell_type": "code",
   "execution_count": null,
   "metadata": {},
   "outputs": [],
   "source": [
    "joined.first()"
   ]
  },
  {
   "cell_type": "code",
   "execution_count": null,
   "metadata": {},
   "outputs": [],
   "source": []
  },
  {
   "cell_type": "code",
   "execution_count": null,
   "metadata": {},
   "outputs": [],
   "source": [
    "stopwords.count()"
   ]
  },
  {
   "cell_type": "code",
   "execution_count": null,
   "metadata": {},
   "outputs": [],
   "source": [
    "with open('asnlib/publicdata/stopwords') as f:\n",
    "    f_stopwords = f.read()\n",
    "    f.close()"
   ]
  },
  {
   "cell_type": "code",
   "execution_count": null,
   "metadata": {},
   "outputs": [],
   "source": [
    "f_stopwords"
   ]
  },
  {
   "cell_type": "code",
   "execution_count": null,
   "metadata": {},
   "outputs": [],
   "source": [
    "stopwords_list = [x.strip().lower() for x in f_stopwords.split()]"
   ]
  },
  {
   "cell_type": "code",
   "execution_count": null,
   "metadata": {},
   "outputs": [],
   "source": []
  },
  {
   "cell_type": "code",
   "execution_count": null,
   "metadata": {},
   "outputs": [],
   "source": []
  },
  {
   "cell_type": "code",
   "execution_count": 9,
   "metadata": {},
   "outputs": [],
   "source": [
    "review_stars = reviews_json.map(lambda x: (x['business_id'], x['stars']))"
   ]
  },
  {
   "cell_type": "code",
   "execution_count": 10,
   "metadata": {},
   "outputs": [
    {
     "data": {
      "text/plain": [
       "[('mRUVMJkUGxrByzMQ2MuOpA', 1.0),\n",
       " ('LUN6swQYa4xJKaM_UEUOEw', 4.0),\n",
       " ('NyLYY8q1-H3hfsTwuwLPCg', 4.0),\n",
       " ('6lj2BJ4tJeu7db5asGHQ4w', 5.0),\n",
       " ('Mem13A3C202RzT53npn4NA', 5.0),\n",
       " ('I4Nr-MVc26qWr08-S3Q1ow', 4.0),\n",
       " ('YSUcHqlKMPHHJ_cTrqtNrA', 1.0),\n",
       " ('wJj1EwYcXHdvA9zKqmb5hQ', 5.0),\n",
       " ('EIL41z-hvVCeYHqfA9PyWQ', 5.0),\n",
       " ('rBo_suDMdGmFQ0TtYg3b2Q', 1.0)]"
      ]
     },
     "execution_count": 10,
     "metadata": {},
     "output_type": "execute_result"
    }
   ],
   "source": [
    "review_stars.take(10)"
   ]
  },
  {
   "cell_type": "code",
   "execution_count": 14,
   "metadata": {},
   "outputs": [],
   "source": [
    "def get_category_business_id(row):\n",
    "    category_business_list = []\n",
    "    for category in row['categories'].split(','):\n",
    "        category_business_list.append((row['business_id'], category.strip()))\n",
    "    return category_business_list"
   ]
  },
  {
   "cell_type": "code",
   "execution_count": 15,
   "metadata": {},
   "outputs": [],
   "source": [
    "categories = business_json.filter(lambda x: x.get('categories',  None) is not None).flatMap(get_category_business_id)"
   ]
  },
  {
   "cell_type": "code",
   "execution_count": 16,
   "metadata": {},
   "outputs": [
    {
     "data": {
      "text/plain": [
       "[('1SWheh84yJXfytovILXOAQ', 'Golf'),\n",
       " ('1SWheh84yJXfytovILXOAQ', 'Active Life'),\n",
       " ('QXAEGFB4oINsVuTFxEYKFQ', 'Specialty Food'),\n",
       " ('QXAEGFB4oINsVuTFxEYKFQ', 'Restaurants'),\n",
       " ('QXAEGFB4oINsVuTFxEYKFQ', 'Dim Sum'),\n",
       " ('QXAEGFB4oINsVuTFxEYKFQ', 'Imported Food'),\n",
       " ('QXAEGFB4oINsVuTFxEYKFQ', 'Food'),\n",
       " ('QXAEGFB4oINsVuTFxEYKFQ', 'Chinese'),\n",
       " ('QXAEGFB4oINsVuTFxEYKFQ', 'Ethnic Food'),\n",
       " ('QXAEGFB4oINsVuTFxEYKFQ', 'Seafood')]"
      ]
     },
     "execution_count": 16,
     "metadata": {},
     "output_type": "execute_result"
    }
   ],
   "source": [
    "categories.take(10)"
   ]
  },
  {
   "cell_type": "code",
   "execution_count": 17,
   "metadata": {},
   "outputs": [],
   "source": [
    "joined_rdd = categories.join(review_stars)"
   ]
  },
  {
   "cell_type": "code",
   "execution_count": 18,
   "metadata": {},
   "outputs": [
    {
     "data": {
      "text/plain": [
       "[('jZ23B--fu21is2zrWiy4Kg', ('Pet Groomers', 5.0)),\n",
       " ('jZ23B--fu21is2zrWiy4Kg', ('Pet Groomers', 5.0)),\n",
       " ('jZ23B--fu21is2zrWiy4Kg', ('Pets', 5.0)),\n",
       " ('jZ23B--fu21is2zrWiy4Kg', ('Pets', 5.0)),\n",
       " ('jZ23B--fu21is2zrWiy4Kg', ('Pet Sitting', 5.0)),\n",
       " ('jZ23B--fu21is2zrWiy4Kg', ('Pet Sitting', 5.0)),\n",
       " ('jZ23B--fu21is2zrWiy4Kg', ('Pet Services', 5.0)),\n",
       " ('jZ23B--fu21is2zrWiy4Kg', ('Pet Services', 5.0)),\n",
       " ('2ffee6OI50skuFyEVmOBZQ', ('Eyelash Service', 5.0)),\n",
       " ('2ffee6OI50skuFyEVmOBZQ', ('Beauty & Spas', 5.0))]"
      ]
     },
     "execution_count": 18,
     "metadata": {},
     "output_type": "execute_result"
    }
   ],
   "source": [
    "joined_rdd.take(10)"
   ]
  },
  {
   "cell_type": "code",
   "execution_count": 22,
   "metadata": {},
   "outputs": [],
   "source": [
    "category_ratings_map = joined_rdd.map(lambda x: x[1]).groupByKey().map(lambda x: (x[0], list(x[1])))"
   ]
  },
  {
   "cell_type": "code",
   "execution_count": 23,
   "metadata": {},
   "outputs": [],
   "source": [
    "average_ratings = category_ratings_map.mapValues(lambda x: sum(x)/len(x))"
   ]
  },
  {
   "cell_type": "code",
   "execution_count": null,
   "metadata": {},
   "outputs": [],
   "source": []
  },
  {
   "cell_type": "code",
   "execution_count": null,
   "metadata": {},
   "outputs": [],
   "source": []
  },
  {
   "cell_type": "code",
   "execution_count": null,
   "metadata": {},
   "outputs": [],
   "source": []
  },
  {
   "cell_type": "code",
   "execution_count": null,
   "metadata": {},
   "outputs": [],
   "source": []
  },
  {
   "cell_type": "code",
   "execution_count": null,
   "metadata": {},
   "outputs": [],
   "source": []
  },
  {
   "cell_type": "code",
   "execution_count": null,
   "metadata": {},
   "outputs": [],
   "source": []
  },
  {
   "cell_type": "code",
   "execution_count": null,
   "metadata": {},
   "outputs": [],
   "source": []
  }
 ],
 "metadata": {
  "kernelspec": {
   "display_name": "Python 3",
   "language": "python",
   "name": "python3"
  },
  "language_info": {
   "codemirror_mode": {
    "name": "ipython",
    "version": 3
   },
   "file_extension": ".py",
   "mimetype": "text/x-python",
   "name": "python",
   "nbconvert_exporter": "python",
   "pygments_lexer": "ipython3",
   "version": "3.7.6"
  },
  "pycharm": {
   "stem_cell": {
    "cell_type": "raw",
    "metadata": {
     "collapsed": false
    },
    "source": []
   }
  }
 },
 "nbformat": 4,
 "nbformat_minor": 4
}
