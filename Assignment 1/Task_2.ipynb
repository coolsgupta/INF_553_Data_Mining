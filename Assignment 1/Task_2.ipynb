{
 "cells": [
  {
   "cell_type": "code",
   "execution_count": 1,
   "metadata": {},
   "outputs": [],
   "source": [
    "import findspark\n",
    "findspark.init()"
   ]
  },
  {
   "cell_type": "code",
   "execution_count": 2,
   "metadata": {},
   "outputs": [],
   "source": [
    "from pyspark import SparkContext\n",
    "import json"
   ]
  },
  {
   "cell_type": "code",
   "execution_count": 3,
   "metadata": {},
   "outputs": [],
   "source": [
    "sc = SparkContext('local[8]', 'task2')"
   ]
  },
  {
   "cell_type": "code",
   "execution_count": 4,
   "metadata": {},
   "outputs": [],
   "source": [
    "reviews_txt = sc.textFile('asnlib/publicdata/review.json')\n"
   ]
  },
  {
   "cell_type": "code",
   "execution_count": 5,
   "metadata": {},
   "outputs": [],
   "source": [
    "business_txt = sc.textFile('asnlib/publicdata/business.json')"
   ]
  },
  {
   "cell_type": "code",
   "execution_count": 6,
   "metadata": {},
   "outputs": [],
   "source": [
    "reviews_json = reviews_txt.map(lambda x: json.loads(x))"
   ]
  },
  {
   "cell_type": "code",
   "execution_count": null,
   "metadata": {},
   "outputs": [],
   "source": [
    "reviews_json.first()"
   ]
  },
  {
   "cell_type": "code",
   "execution_count": 7,
   "metadata": {},
   "outputs": [],
   "source": [
    "business_json = business_txt.map(lambda x: json.loads(x))"
   ]
  },
  {
   "cell_type": "code",
   "execution_count": null,
   "metadata": {},
   "outputs": [],
   "source": [
    "business_json.take(1)"
   ]
  },
  {
   "cell_type": "code",
   "execution_count": null,
   "metadata": {},
   "outputs": [],
   "source": [
    "def get_category_business_id(row):\n",
    "    category_business_list = []\n",
    "    for category in row['categories'].split(','):\n",
    "        category_business_list.append((category.strip(), row['business_id']))\n",
    "    return category_business_list"
   ]
  },
  {
   "cell_type": "code",
   "execution_count": null,
   "metadata": {},
   "outputs": [],
   "source": [
    "# categories = business_json.map(lambda x: ([cat.strip()for cat in x['categories'].split(',')], x['business_id']))\n"
   ]
  },
  {
   "cell_type": "code",
   "execution_count": null,
   "metadata": {
    "pycharm": {
     "name": "#%%\n"
    }
   },
   "outputs": [],
   "source": [
    "categories = business_json.filter(lambda x: x.get('categories',  None) is not None).flatMap(get_category_business_id).groupByKey().map(lambda x: (x[0], list(x[1])))"
   ]
  },
  {
   "cell_type": "code",
   "execution_count": null,
   "metadata": {},
   "outputs": [],
   "source": [
    "categories.first()"
   ]
  },
  {
   "cell_type": "code",
   "execution_count": null,
   "metadata": {},
   "outputs": [],
   "source": []
  },
  {
   "cell_type": "code",
   "execution_count": null,
   "metadata": {},
   "outputs": [],
   "source": []
  },
  {
   "cell_type": "code",
   "execution_count": null,
   "metadata": {
    "pycharm": {
     "name": "#%%\n"
    },
    "scrolled": true
   },
   "outputs": [],
   "source": [
    "reduced_cat = categories.reduceByKey(lambda a,b: a + b)"
   ]
  },
  {
   "cell_type": "code",
   "execution_count": null,
   "metadata": {},
   "outputs": [],
   "source": [
    "reduced_cat.collect()"
   ]
  },
  {
   "cell_type": "code",
   "execution_count": null,
   "metadata": {},
   "outputs": [],
   "source": [
    "business_ratings = reviews_json.map(lambda x: (x['business_id'], x['stars']))"
   ]
  },
  {
   "cell_type": "code",
   "execution_count": null,
   "metadata": {},
   "outputs": [],
   "source": [
    "business_ratings.count()"
   ]
  },
  {
   "cell_type": "code",
   "execution_count": null,
   "metadata": {},
   "outputs": [],
   "source": [
    "grouped_b = business_ratings.groupByKey().map(lambda x: (x[0], list(x[1])))"
   ]
  },
  {
   "cell_type": "code",
   "execution_count": null,
   "metadata": {},
   "outputs": [],
   "source": [
    "grouped_b.take(10)"
   ]
  },
  {
   "cell_type": "code",
   "execution_count": null,
   "metadata": {},
   "outputs": [],
   "source": [
    "joined = business_ratings.join(categories)"
   ]
  },
  {
   "cell_type": "code",
   "execution_count": null,
   "metadata": {},
   "outputs": [],
   "source": [
    "joined.first()"
   ]
  },
  {
   "cell_type": "code",
   "execution_count": null,
   "metadata": {},
   "outputs": [],
   "source": []
  },
  {
   "cell_type": "code",
   "execution_count": 14,
   "metadata": {},
   "outputs": [],
   "source": []
  },
  {
   "cell_type": "code",
   "execution_count": 15,
   "metadata": {},
   "outputs": [],
   "source": [
    "categories = business_json.filter(lambda x: x.get('categories',  None) is not None).flatMap(get_category_business_id)"
   ]
  },
  {
   "cell_type": "code",
   "execution_count": 16,
   "metadata": {},
   "outputs": [
    {
     "data": {
      "text/plain": [
       "[('1SWheh84yJXfytovILXOAQ', 'Golf'),\n",
       " ('1SWheh84yJXfytovILXOAQ', 'Active Life'),\n",
       " ('QXAEGFB4oINsVuTFxEYKFQ', 'Specialty Food'),\n",
       " ('QXAEGFB4oINsVuTFxEYKFQ', 'Restaurants'),\n",
       " ('QXAEGFB4oINsVuTFxEYKFQ', 'Dim Sum'),\n",
       " ('QXAEGFB4oINsVuTFxEYKFQ', 'Imported Food'),\n",
       " ('QXAEGFB4oINsVuTFxEYKFQ', 'Food'),\n",
       " ('QXAEGFB4oINsVuTFxEYKFQ', 'Chinese'),\n",
       " ('QXAEGFB4oINsVuTFxEYKFQ', 'Ethnic Food'),\n",
       " ('QXAEGFB4oINsVuTFxEYKFQ', 'Seafood')]"
      ]
     },
     "execution_count": 16,
     "metadata": {},
     "output_type": "execute_result"
    }
   ],
   "source": [
    "categories.take(10)"
   ]
  },
  {
   "cell_type": "code",
   "execution_count": 17,
   "metadata": {},
   "outputs": [],
   "source": [
    "joined_rdd = categories.join(review_stars)"
   ]
  },
  {
   "cell_type": "code",
   "execution_count": 18,
   "metadata": {},
   "outputs": [
    {
     "data": {
      "text/plain": [
       "[('jZ23B--fu21is2zrWiy4Kg', ('Pet Groomers', 5.0)),\n",
       " ('jZ23B--fu21is2zrWiy4Kg', ('Pet Groomers', 5.0)),\n",
       " ('jZ23B--fu21is2zrWiy4Kg', ('Pets', 5.0)),\n",
       " ('jZ23B--fu21is2zrWiy4Kg', ('Pets', 5.0)),\n",
       " ('jZ23B--fu21is2zrWiy4Kg', ('Pet Sitting', 5.0)),\n",
       " ('jZ23B--fu21is2zrWiy4Kg', ('Pet Sitting', 5.0)),\n",
       " ('jZ23B--fu21is2zrWiy4Kg', ('Pet Services', 5.0)),\n",
       " ('jZ23B--fu21is2zrWiy4Kg', ('Pet Services', 5.0)),\n",
       " ('2ffee6OI50skuFyEVmOBZQ', ('Eyelash Service', 5.0)),\n",
       " ('2ffee6OI50skuFyEVmOBZQ', ('Beauty & Spas', 5.0))]"
      ]
     },
     "execution_count": 18,
     "metadata": {},
     "output_type": "execute_result"
    }
   ],
   "source": [
    "joined_rdd.take(10)"
   ]
  },
  {
   "cell_type": "code",
   "execution_count": 22,
   "metadata": {},
   "outputs": [],
   "source": [
    "category_ratings_map = joined_rdd.map(lambda x: x[1]).groupByKey().map(lambda x: (x[0], list(x[1])))"
   ]
  },
  {
   "cell_type": "code",
   "execution_count": 26,
   "metadata": {},
   "outputs": [],
   "source": [
    "average_ratings = category_ratings_map.mapValues(lambda x: sum(x)/len(x)).sortBy(lambda x: (-x[1], x[0]))"
   ]
  },
  {
   "cell_type": "code",
   "execution_count": 28,
   "metadata": {},
   "outputs": [
    {
     "data": {
      "text/plain": [
       "[('Astrologers', 5.0),\n",
       " ('Audio/Visual Equipment Rental', 5.0),\n",
       " ('Bocce Ball', 5.0),\n",
       " ('Calabrian', 5.0),\n",
       " ('Chinese Martial Arts', 5.0),\n",
       " ('Christmas Markets', 5.0),\n",
       " ('Crane Services', 5.0),\n",
       " ('DIY Auto Shop', 5.0),\n",
       " ('Duplication Services', 5.0),\n",
       " ('Fireworks', 5.0),\n",
       " ('Geneticists', 5.0),\n",
       " ('Habilitative Services', 5.0),\n",
       " ('Hearing Aids', 5.0),\n",
       " ('IP & Internet Law', 5.0),\n",
       " ('Indoor Landscaping', 5.0),\n",
       " ('Japanese Sweets', 5.0),\n",
       " ('Makerspaces', 5.0),\n",
       " ('Mobile Home Repair', 5.0),\n",
       " ('Outdoor Movies', 5.0),\n",
       " ('Pathologists', 5.0),\n",
       " ('Public Adjusters', 5.0),\n",
       " ('Registry Office', 5.0),\n",
       " ('Rodeo', 5.0),\n",
       " ('Safety Equipment', 5.0),\n",
       " ('Sledding', 5.0),\n",
       " ('Snorkeling', 5.0),\n",
       " ('Storefront Clinics', 5.0),\n",
       " ('Structural Engineers', 5.0),\n",
       " ('Surf Schools', 5.0),\n",
       " ('Trivia Hosts', 5.0),\n",
       " ('Vocal Coach', 5.0),\n",
       " ('Water Suppliers', 5.0),\n",
       " ('Caricatures', 4.933333333333334),\n",
       " ('Taxidermy', 4.933333333333334),\n",
       " ('Party Characters', 4.873015873015873),\n",
       " ('Boudoir Photography', 4.857142857142857),\n",
       " ('Feng Shui', 4.857142857142857),\n",
       " ('Qi Gong', 4.857142857142857),\n",
       " ('Surfing', 4.857142857142857),\n",
       " ('Photography Classes', 4.833333333333333),\n",
       " ('Real Estate Photography', 4.833333333333333),\n",
       " ('Face Painting', 4.827956989247312),\n",
       " ('Brazilian Jiu-jitsu', 4.814814814814815),\n",
       " ('Food Banks', 4.8),\n",
       " ('Lice Services', 4.8),\n",
       " ('Pet Waste Removal', 4.8),\n",
       " ('Carpet Dyeing', 4.794871794871795),\n",
       " ('Bike Shop', 4.794117647058823),\n",
       " ('Aerial Tours', 4.79054054054054),\n",
       " ('Cryotherapy', 4.78494623655914)]"
      ]
     },
     "execution_count": 28,
     "metadata": {},
     "output_type": "execute_result"
    }
   ],
   "source": [
    "average_ratings.take(50)"
   ]
  },
  {
   "cell_type": "code",
   "execution_count": null,
   "metadata": {},
   "outputs": [],
   "source": []
  },
  {
   "cell_type": "code",
   "execution_count": null,
   "metadata": {},
   "outputs": [],
   "source": []
  },
  {
   "cell_type": "code",
   "execution_count": null,
   "metadata": {},
   "outputs": [],
   "source": []
  },
  {
   "cell_type": "code",
   "execution_count": null,
   "metadata": {},
   "outputs": [],
   "source": []
  },
  {
   "cell_type": "code",
   "execution_count": null,
   "metadata": {},
   "outputs": [],
   "source": []
  },
  {
   "cell_type": "code",
   "execution_count": null,
   "metadata": {},
   "outputs": [],
   "source": []
  }
 ],
 "metadata": {
  "kernelspec": {
   "display_name": "Python 3",
   "language": "python",
   "name": "python3"
  },
  "language_info": {
   "codemirror_mode": {
    "name": "ipython",
    "version": 3
   },
   "file_extension": ".py",
   "mimetype": "text/x-python",
   "name": "python",
   "nbconvert_exporter": "python",
   "pygments_lexer": "ipython3",
   "version": "3.7.6"
  },
  "pycharm": {
   "stem_cell": {
    "cell_type": "raw",
    "source": [],
    "metadata": {
     "collapsed": false
    }
   }
  }
 },
 "nbformat": 4,
 "nbformat_minor": 4
}