{
 "cells": [
  {
   "cell_type": "code",
   "execution_count": 1,
   "metadata": {},
   "outputs": [],
   "source": [
    "import findspark\n",
    "findspark.init()"
   ]
  },
  {
   "cell_type": "code",
   "execution_count": 2,
   "metadata": {},
   "outputs": [],
   "source": [
    "from pyspark import SparkContext\n",
    "import json"
   ]
  },
  {
   "cell_type": "code",
   "execution_count": 3,
   "metadata": {},
   "outputs": [],
   "source": [
    "sc = SparkContext('local[8]', 'task2')"
   ]
  },
  {
   "cell_type": "code",
   "execution_count": 4,
   "metadata": {},
   "outputs": [],
   "source": [
    "reviews_txt = sc.textFile('asnlib/publicdata/review.json')"
   ]
  },
  {
   "cell_type": "code",
   "execution_count": 5,
   "metadata": {},
   "outputs": [],
   "source": [
    "reviews_json = reviews_txt.map(lambda x: json.loads(x))"
   ]
  },
  {
   "cell_type": "code",
   "execution_count": 6,
   "metadata": {},
   "outputs": [
    {
     "data": {
      "text/plain": [
       "{'review_id': '-I5umRTkhw15RqpKMl_o1Q',\n",
       " 'user_id': '-mA3-1mN4JIEkqOtdbNXCQ',\n",
       " 'business_id': 'mRUVMJkUGxrByzMQ2MuOpA',\n",
       " 'stars': 1.0,\n",
       " 'text': \"Walked in around 4 on a Friday afternoon, we sat at a table just off the bar and walked out after 5 min or so. Don't even think they realized we walked in. However everyone at the bar noticed we walked in!!! Service was non existent at best. Not a good way for a new business to start out. Oh well, the location they are at has been about 5 different things over the past several years, so they will just be added to the list. SMDH!!!\",\n",
       " 'date': '2017-12-15 23:27:08'}"
      ]
     },
     "execution_count": 6,
     "metadata": {},
     "output_type": "execute_result"
    }
   ],
   "source": [
    "reviews_json.first()"
   ]
  },
  {
   "cell_type": "code",
   "execution_count": 9,
   "metadata": {},
   "outputs": [],
   "source": [
    "business_review_count = reviews_json.map(lambda x: (x['business_id'], 1)).reduceByKey(lambda a,b: a + b)"
   ]
  },
  {
   "cell_type": "code",
   "execution_count": 11,
   "metadata": {},
   "outputs": [
    {
     "data": {
      "text/plain": [
       "('abaIvBrlg3QI4FUG1v3bdA', 1)"
      ]
     },
     "execution_count": 11,
     "metadata": {},
     "output_type": "execute_result"
    }
   ],
   "source": [
    "business_review_count.first()"
   ]
  },
  {
   "cell_type": "code",
   "execution_count": 12,
   "metadata": {},
   "outputs": [
    {
     "data": {
      "text/plain": [
       "[('abaIvBrlg3QI4FUG1v3bdA', 1),\n",
       " ('M8a5DRdXl8KMu4bMFLPgQg', 20),\n",
       " ('1Df5WnLX3DqN6ymlhqznaQ', 73),\n",
       " ('DVfCbJhJUDWRlUfrKzaKOA', 106),\n",
       " ('E7eOOXwMC7wwCRywsvNzUA', 27),\n",
       " ('VoXUt6TIJWyIf_lihbN5xQ', 51),\n",
       " ('6eRSdODyj9GS0w6zlhrWkg', 23),\n",
       " ('CN86oDG4uEar1SROyMBKFA', 7),\n",
       " ('uf2hyKG-7dyszQZw6n57OQ', 4),\n",
       " ('qx6WhZ42eDKmBchZDax4dQ', 173),\n",
       " ('WOj8nPos3R9IIf0Pyttd8g', 34),\n",
       " ('vA0HlyVJcK8_Wtq81-3TUw', 4),\n",
       " ('gc_GGat7TgNCmrgc4nVOgw', 46),\n",
       " ('PeVgw94It7HBBLkIbOoAng', 9),\n",
       " ('gT4gngtGKYOW-jl5UIBahg', 10),\n",
       " ('zra20XPGVL9P3i5hMoKjig', 26),\n",
       " ('eoyvbnRYQe-z85e8Rc6vAg', 78),\n",
       " ('IqxhMxYSQTg8BytCkaGczA', 3),\n",
       " ('DlVALLr6P4_cimALTHjcbg', 9),\n",
       " ('vUfFS5BR8WXsx9r72QMCvg', 14)]"
      ]
     },
     "execution_count": 12,
     "metadata": {},
     "output_type": "execute_result"
    }
   ],
   "source": [
    "business_review_count.take(20)"
   ]
  },
  {
   "cell_type": "code",
   "execution_count": 13,
   "metadata": {},
   "outputs": [
    {
     "data": {
      "text/plain": [
       "27"
      ]
     },
     "execution_count": 13,
     "metadata": {},
     "output_type": "execute_result"
    }
   ],
   "source": [
    "reviews_json.getNumPartitions()"
   ]
  },
  {
   "cell_type": "code",
   "execution_count": 14,
   "metadata": {},
   "outputs": [
    {
     "data": {
      "text/plain": [
       "27"
      ]
     },
     "execution_count": 14,
     "metadata": {},
     "output_type": "execute_result"
    }
   ],
   "source": [
    "business_review_count.getNumPartitions()"
   ]
  },
  {
   "cell_type": "code",
   "execution_count": null,
   "metadata": {},
   "outputs": [],
   "source": []
  }
 ],
 "metadata": {
  "kernelspec": {
   "display_name": "Python 3",
   "language": "python",
   "name": "python3"
  },
  "language_info": {
   "codemirror_mode": {
    "name": "ipython",
    "version": 3
   },
   "file_extension": ".py",
   "mimetype": "text/x-python",
   "name": "python",
   "nbconvert_exporter": "python",
   "pygments_lexer": "ipython3",
   "version": "3.7.6"
  }
 },
 "nbformat": 4,
 "nbformat_minor": 4
}
